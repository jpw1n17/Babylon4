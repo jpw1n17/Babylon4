{
 "cells": [
  {
   "cell_type": "code",
   "execution_count": 1,
   "metadata": {},
   "outputs": [],
   "source": [
    "import data_io\n",
    "from features import FeatureMapper, SimpleTransform\n",
    "import numpy as np\n",
    "import pandas as pd\n",
    "from tqdm import tqdm\n",
    "from sklearn.feature_extraction.text import CountVectorizer\n",
    "from sklearn.pipeline import Pipeline\n",
    "from sklearn.linear_model import LogisticRegression\n",
    "from sklearn.model_selection import cross_val_score"
   ]
  },
  {
   "cell_type": "code",
   "execution_count": 2,
   "metadata": {},
   "outputs": [],
   "source": [
    "def feature_extractor():\n",
    "    features = [('FullDescription-Bag of Words', 'FullDescription', CountVectorizer(max_features=100)),\n",
    "                ('Title-Bag of Words', 'Title', CountVectorizer(max_features=100)),\n",
    "                ('LocationRaw-Bag of Words', 'LocationRaw', CountVectorizer(max_features=100)),\n",
    "                ('LocationNormalized-Bag of Words', 'LocationNormalized', CountVectorizer(max_features=100))]\n",
    "    combined = FeatureMapper(features)\n",
    "    return combined"
   ]
  },
  {
   "cell_type": "code",
   "execution_count": 3,
   "metadata": {},
   "outputs": [],
   "source": [
    "def get_pipeline():\n",
    "    features = feature_extractor()\n",
    "    steps = [(\"extract_features\", features),\n",
    "             (\"classify\", LogisticRegression(penalty='l2', \n",
    "                                             dual=False, \n",
    "                                             tol=0.1, \n",
    "                                             C=1.0, \n",
    "                                             fit_intercept=True, \n",
    "                                             intercept_scaling=1, \n",
    "                                             class_weight=None, \n",
    "                                             random_state=None, \n",
    "                                             #for large datasets and multiclass problems use sad(stochastic average gradient)\n",
    "                                             solver='sag', \n",
    "                                             max_iter=100, \n",
    "                                             multi_class='multinomial', \n",
    "                                             verbose= 1, \n",
    "                                             warm_start=False, \n",
    "                                             n_jobs= -1))]\n",
    "    return Pipeline(steps)"
   ]
  },
  {
   "cell_type": "code",
   "execution_count": 4,
   "metadata": {},
   "outputs": [
    {
     "name": "stdout",
     "output_type": "stream",
     "text": [
      "Reading in the training data\n",
      "Extracting features and training model\n",
      "convergence after 9 epochs took 62205 seconds\n"
     ]
    },
    {
     "name": "stderr",
     "output_type": "stream",
     "text": [
      "[Parallel(n_jobs=-1)]: Done   1 out of   1 | elapsed: 1036.8min finished\n"
     ]
    },
    {
     "name": "stdout",
     "output_type": "stream",
     "text": [
      "Making predictions\n",
      "Writing predictions to file\n"
     ]
    }
   ],
   "source": [
    "print(\"Reading in the training data\")\n",
    "train = data_io.get_train_df()\n",
    "\n",
    "print(\"Extracting features and training model\")\n",
    "classifier = get_pipeline()\n",
    "classifier.fit(train, train[\"SalaryNormalized\"])\n",
    "\n",
    "print(\"Making predictions\") \n",
    "valid = data_io.get_valid_df()\n",
    "predictions = classifier.predict(valid)   \n",
    "predictions = predictions.reshape(len(predictions), 1)\n",
    "    \n",
    "print(\"Writing predictions to file\")\n",
    "data_io.write_submission(predictions)"
   ]
  },
  {
   "cell_type": "code",
   "execution_count": null,
   "metadata": {},
   "outputs": [],
   "source": [
    "scores = cross_val_score(classifier, train, train[\"SalaryNormalized\"], cv=10, scoring='neg_mean_absolute_error')\n",
    "print(scores)"
   ]
  },
  {
   "cell_type": "code",
   "execution_count": 5,
   "metadata": {},
   "outputs": [],
   "source": [
    "real = pd.read_csv('realsalary.csv')\n",
    "result = pd.read_csv('LogisticRegression_pre_rev1.csv')\n",
    "salary_real = real['SalaryNormalized']\n",
    "salary_result = result['SalaryNormalized']"
   ]
  },
  {
   "cell_type": "code",
   "execution_count": 6,
   "metadata": {},
   "outputs": [
    {
     "name": "stderr",
     "output_type": "stream",
     "text": [
      "100%|█████████████████████████████████████████████████████████████████████████| 36750/36750 [00:01<00:00, 32384.19it/s]\n"
     ]
    },
    {
     "name": "stdout",
     "output_type": "stream",
     "text": [
      "ME of this model with sag solver is\n",
      "10982.656843537416\n"
     ]
    }
   ],
   "source": [
    "n = 0\n",
    "for i in tqdm(range(0,len(salary_real))):\n",
    "    n += abs(salary_real[i]-salary_result[i])\n",
    "n = n/len(salary_real)\n",
    "print('ME of this model with sag solver is')\n",
    "print(n)"
   ]
  },
  {
   "cell_type": "code",
   "execution_count": null,
   "metadata": {},
   "outputs": [],
   "source": []
  }
 ],
 "metadata": {
  "kernelspec": {
   "display_name": "Python 3",
   "language": "python",
   "name": "python3"
  },
  "language_info": {
   "codemirror_mode": {
    "name": "ipython",
    "version": 3
   },
   "file_extension": ".py",
   "mimetype": "text/x-python",
   "name": "python",
   "nbconvert_exporter": "python",
   "pygments_lexer": "ipython3",
   "version": "3.5.4"
  }
 },
 "nbformat": 4,
 "nbformat_minor": 2
}
