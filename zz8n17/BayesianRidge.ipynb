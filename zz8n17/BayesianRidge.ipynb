{
 "cells": [
  {
   "cell_type": "code",
   "execution_count": 40,
   "metadata": {},
   "outputs": [],
   "source": [
    "import data_io\n",
    "from features import FeatureMapper, SimpleTransform\n",
    "import numpy as np\n",
    "import pandas as pd\n",
    "import pickle\n",
    "from tqdm import tqdm\n",
    "from sklearn.feature_extraction.text import CountVectorizer\n",
    "from sklearn.pipeline import Pipeline\n",
    "from sklearn.linear_model import BayesianRidge"
   ]
  },
  {
   "cell_type": "code",
   "execution_count": 3,
   "metadata": {},
   "outputs": [],
   "source": [
    "def feature_extractor():\n",
    "    features = [('FullDescription-Bag of Words', 'FullDescription', CountVectorizer(max_features=100)),\n",
    "                ('Title-Bag of Words', 'Title', CountVectorizer(max_features=100)),\n",
    "                ('LocationRaw-Bag of Words', 'LocationRaw', CountVectorizer(max_features=100)),\n",
    "                ('LocationNormalized-Bag of Words', 'LocationNormalized', CountVectorizer(max_features=100))]\n",
    "    combined = FeatureMapper(features)\n",
    "    return combined"
   ]
  },
  {
   "cell_type": "code",
   "execution_count": 4,
   "metadata": {},
   "outputs": [],
   "source": [
    "def get_pipeline():\n",
    "    features = feature_extractor()\n",
    "    steps = [(\"extract_features\", features),\n",
    "             (\"classify\", BayesianRidge(alpha_1=1e-06, \n",
    "                                        alpha_2=1e-06, \n",
    "                                        compute_score=False, \n",
    "                                        copy_X=True,\n",
    "                                        fit_intercept=True, \n",
    "                                        lambda_1=1e-06, \n",
    "                                        lambda_2=1e-06, \n",
    "                                        n_iter=300,\n",
    "                                        tol=0.001, \n",
    "                                        verbose=True))]\n",
    "    return Pipeline(steps)"
   ]
  },
  {
   "cell_type": "code",
   "execution_count": 11,
   "metadata": {},
   "outputs": [
    {
     "name": "stdout",
     "output_type": "stream",
     "text": [
      "Reading in the training data\n",
      "Extracting features and training model\n",
      "Convergence after  10  iterations\n",
      "Making predictions\n",
      "Writing predictions to file\n"
     ]
    }
   ],
   "source": [
    "def main():\n",
    "    print(\"Reading in the training data\")\n",
    "    train = data_io.get_train_df()\n",
    "\n",
    "    print(\"Extracting features and training model\")\n",
    "    classifier = get_pipeline()\n",
    "    classifier.fit(train, train[\"SalaryNormalized\"])\n",
    "\n",
    "    print(\"Making predictions\") \n",
    "    valid = data_io.get_valid_df()\n",
    "    predictions = classifier.predict(valid)   \n",
    "    predictions = predictions.reshape(len(predictions), 1)\n",
    "    \n",
    "    print(\"Writing predictions to file\")\n",
    "    data_io.write_submission(predictions)\n",
    "    \n",
    "if __name__==\"__main__\":\n",
    "    main()"
   ]
  },
  {
   "cell_type": "code",
   "execution_count": 26,
   "metadata": {},
   "outputs": [],
   "source": [
    "real = pd.read_csv('realsalary.csv')\n",
    "result = pd.read_csv('BayesianRidge_pre_rev1.csv')"
   ]
  },
  {
   "cell_type": "code",
   "execution_count": 41,
   "metadata": {},
   "outputs": [
    {
     "name": "stderr",
     "output_type": "stream",
     "text": [
      "  0%|                                                                                        | 0/36750 [00:00<?, ?it/s]\n"
     ]
    },
    {
     "ename": "NameError",
     "evalue": "name 'n' is not defined",
     "output_type": "error",
     "traceback": [
      "\u001b[1;31m---------------------------------------------------------------------------\u001b[0m",
      "\u001b[1;31mNameError\u001b[0m                                 Traceback (most recent call last)",
      "\u001b[1;32m<ipython-input-41-159f9ff51bcb>\u001b[0m in \u001b[0;36m<module>\u001b[1;34m()\u001b[0m\n\u001b[0;32m      2\u001b[0m \u001b[0msalary_result\u001b[0m \u001b[1;33m=\u001b[0m \u001b[0mresult\u001b[0m\u001b[1;33m[\u001b[0m\u001b[1;34m'SalaryNormalized'\u001b[0m\u001b[1;33m]\u001b[0m\u001b[1;33m\u001b[0m\u001b[0m\n\u001b[0;32m      3\u001b[0m \u001b[1;32mfor\u001b[0m \u001b[0mi\u001b[0m \u001b[1;32min\u001b[0m \u001b[0mtqdm\u001b[0m\u001b[1;33m(\u001b[0m\u001b[0mrange\u001b[0m\u001b[1;33m(\u001b[0m\u001b[1;36m0\u001b[0m\u001b[1;33m,\u001b[0m\u001b[0mlen\u001b[0m\u001b[1;33m(\u001b[0m\u001b[0msalary_real\u001b[0m\u001b[1;33m)\u001b[0m\u001b[1;33m)\u001b[0m\u001b[1;33m)\u001b[0m\u001b[1;33m:\u001b[0m\u001b[1;33m\u001b[0m\u001b[0m\n\u001b[1;32m----> 4\u001b[1;33m     \u001b[0mn\u001b[0m \u001b[1;33m+=\u001b[0m \u001b[0mabs\u001b[0m\u001b[1;33m(\u001b[0m\u001b[0msalary_real\u001b[0m\u001b[1;33m(\u001b[0m\u001b[0mi\u001b[0m\u001b[1;33m)\u001b[0m\u001b[1;33m-\u001b[0m\u001b[0msalary_result\u001b[0m\u001b[1;33m(\u001b[0m\u001b[0mi\u001b[0m\u001b[1;33m)\u001b[0m\u001b[1;33m)\u001b[0m\u001b[1;33m\u001b[0m\u001b[0m\n\u001b[0m\u001b[0;32m      5\u001b[0m \u001b[0mn\u001b[0m \u001b[1;33m=\u001b[0m \u001b[0mn\u001b[0m\u001b[1;33m/\u001b[0m\u001b[0mlen\u001b[0m\u001b[1;33m(\u001b[0m\u001b[0msalary_real\u001b[0m\u001b[1;33m)\u001b[0m\u001b[1;33m\u001b[0m\u001b[0m\n\u001b[0;32m      6\u001b[0m \u001b[0mprint\u001b[0m\u001b[1;33m(\u001b[0m\u001b[1;34m'ME of this model is'\u001b[0m\u001b[1;33m)\u001b[0m\u001b[1;33m\u001b[0m\u001b[0m\n",
      "\u001b[1;31mNameError\u001b[0m: name 'n' is not defined"
     ]
    }
   ],
   "source": [
    "salary_real = real['SalaryNormalized']\n",
    "salary_result = result['SalaryNormalized']\n",
    "for i in tqdm(range(0,len(salary_real))):\n",
    "    n += abs(salary_real(i)-salary_result(i))\n",
    "n = n/len(salary_real)\n",
    "print('ME of this model is')\n",
    "print(n)"
   ]
  },
  {
   "cell_type": "code",
   "execution_count": null,
   "metadata": {},
   "outputs": [],
   "source": []
  }
 ],
 "metadata": {
  "kernelspec": {
   "display_name": "Python 3",
   "language": "python",
   "name": "python3"
  },
  "language_info": {
   "codemirror_mode": {
    "name": "ipython",
    "version": 3
   },
   "file_extension": ".py",
   "mimetype": "text/x-python",
   "name": "python",
   "nbconvert_exporter": "python",
   "pygments_lexer": "ipython3",
   "version": "3.5.4"
  }
 },
 "nbformat": 4,
 "nbformat_minor": 2
}
