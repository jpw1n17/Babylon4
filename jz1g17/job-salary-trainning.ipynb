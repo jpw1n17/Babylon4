{
 "cells": [
  {
   "cell_type": "code",
   "execution_count": 9,
   "metadata": {},
   "outputs": [],
   "source": [
    "import pandas as pd\n",
    "import matplotlib.pyplot as plt\n",
    "from tqdm import tqdm\n",
    "import numpy as np\n",
    "\n",
    "from keras.optimizers import SGD\n",
    "from keras.layers import Dense, Flatten, Input, Activation\n",
    "from keras.layers.embeddings import Embedding\n",
    "from keras.models import Model\n",
    "from keras.preprocessing.sequence import pad_sequences\n",
    "from keras.preprocessing.text import one_hot\n",
    "from keras import Sequential\n",
    "from keras.callbacks import EarlyStopping\n",
    "from keras.layers.normalization import BatchNormalization\n",
    "from sklearn.preprocessing import OneHotEncoder\n",
    "from keras.layers import Dropout\n",
    "import keras\n",
    "\n",
    "import h5py  # compress and save features"
   ]
  },
  {
   "cell_type": "markdown",
   "metadata": {},
   "source": [
    "# Loading data"
   ]
  },
  {
   "cell_type": "code",
   "execution_count": 2,
   "metadata": {},
   "outputs": [
    {
     "name": "stdout",
     "output_type": "stream",
     "text": [
      "Wall time: 5min 10s\n"
     ]
    }
   ],
   "source": [
    "%%time\n",
    "with h5py.File('features_train.h5', 'r') as f:\n",
    "    features = np.array(f['features'])"
   ]
  },
  {
   "cell_type": "code",
   "execution_count": 3,
   "metadata": {},
   "outputs": [
    {
     "data": {
      "text/plain": [
       "(244768, 9736)"
      ]
     },
     "execution_count": 3,
     "metadata": {},
     "output_type": "execute_result"
    }
   ],
   "source": [
    "features.shape"
   ]
  },
  {
   "cell_type": "code",
   "execution_count": null,
   "metadata": {},
   "outputs": [],
   "source": [
    "%%time\n",
    "with h5py.File('features_all_train.h5', 'r') as f:\n",
    "    feature_combine = np.array(f['feature_all'])"
   ]
  },
  {
   "cell_type": "code",
   "execution_count": null,
   "metadata": {},
   "outputs": [],
   "source": [
    "feature_combine.shape"
   ]
  },
  {
   "cell_type": "code",
   "execution_count": 4,
   "metadata": {},
   "outputs": [
    {
     "name": "stdout",
     "output_type": "stream",
     "text": [
      "Wall time: 666 ms\n"
     ]
    }
   ],
   "source": [
    "%%time\n",
    "with h5py.File('features_salary.h5', 'r') as f:\n",
    "    salary = np.array(f['salary'])"
   ]
  },
  {
   "cell_type": "code",
   "execution_count": 5,
   "metadata": {},
   "outputs": [
    {
     "data": {
      "text/plain": [
       "(244768,)"
      ]
     },
     "execution_count": 5,
     "metadata": {},
     "output_type": "execute_result"
    }
   ],
   "source": [
    "salary.shape"
   ]
  },
  {
   "cell_type": "code",
   "execution_count": 6,
   "metadata": {},
   "outputs": [],
   "source": [
    "salary_log = np.log(salary)"
   ]
  },
  {
   "cell_type": "code",
   "execution_count": 14,
   "metadata": {},
   "outputs": [
    {
     "name": "stdout",
     "output_type": "stream",
     "text": [
      "Wall time: 2min 33s\n"
     ]
    }
   ],
   "source": [
    "%%time\n",
    "with h5py.File('features_test.h5', 'r') as f:\n",
    "    feature_test = np.array(f['features_test'])"
   ]
  },
  {
   "cell_type": "code",
   "execution_count": 15,
   "metadata": {},
   "outputs": [
    {
     "data": {
      "text/plain": [
       "(122463, 9736)"
      ]
     },
     "execution_count": 15,
     "metadata": {},
     "output_type": "execute_result"
    }
   ],
   "source": [
    "feature_test.shape"
   ]
  },
  {
   "cell_type": "markdown",
   "metadata": {},
   "source": [
    "**observe salary**"
   ]
  },
  {
   "cell_type": "code",
   "execution_count": 17,
   "metadata": {},
   "outputs": [],
   "source": [
    "true_salay_dataset = pd.read_csv('./dataset/random_forest_benchmark_test_rev1.csv')"
   ]
  },
  {
   "cell_type": "code",
   "execution_count": 18,
   "metadata": {},
   "outputs": [],
   "source": [
    "ture_salay = true_salay_dataset['SalaryNormalized']"
   ]
  },
  {
   "cell_type": "code",
   "execution_count": 16,
   "metadata": {},
   "outputs": [
    {
     "data": {
      "image/png": "[encoded data removed]",
      "text/plain": [
       "<matplotlib.figure.Figure at 0x27394894f60>"
      ]
     },
     "metadata": {},
     "output_type": "display_data"
    }
   ],
   "source": [
    "f1 = plt.figure(1)\n",
    "plt.hist(salary)\n",
    "plt.title('Orignal salary distribution')  \n",
    "plt.ylabel(\"Frequency\")  \n",
    "plt.xlabel(\"Salary\")\n",
    "# plt with same scale\n",
    "#plt.ylim(0,0.25)\n",
    "plt.xlim(0,110000)\n",
    "plt.savefig(\"Orignal salary distribution.PNG\", dpi = 600)\n",
    "plt.show()"
   ]
  },
  {
   "cell_type": "markdown",
   "metadata": {},
   "source": [
    "**It could find the distribution of salay is not Gauusian, therefore, take log to this data**"
   ]
  },
  {
   "cell_type": "code",
   "execution_count": 18,
   "metadata": {},
   "outputs": [
    {
     "data": {
      "image/png": "[encoded data removed]",
      "text/plain": [
       "<matplotlib.figure.Figure at 0x2739492c048>"
      ]
     },
     "metadata": {},
     "output_type": "display_data"
    }
   ],
   "source": [
    "# make a histogram of the data array\n",
    "salary_log = np.log(salary)\n",
    " \n",
    "f1 = plt.figure(2)\n",
    "plt.hist(salary_log)\n",
    "plt.title('Log - salary distribution')  \n",
    "plt.ylabel(\"Frequency\")  \n",
    "plt.xlabel(\"Log - Salary\")\n",
    "# plt with same scale\n",
    "#plt.ylim(0,0.25)\n",
    "#plt.xlim(0,110000)\n",
    "plt.savefig(\"Log - salary distribution.PNG\", dpi = 600)\n",
    "plt.show()"
   ]
  },
  {
   "cell_type": "markdown",
   "metadata": {},
   "source": [
    "# PCA analysis"
   ]
  },
  {
   "cell_type": "code",
   "execution_count": null,
   "metadata": {},
   "outputs": [],
   "source": [
    "def zeroMean(dataMat):        \n",
    "    meanVal=np.mean(dataMat,axis=0)     #get mean by columns\n",
    "    newData=dataMat-meanVal  \n",
    "    return newData,meanVal\n",
    "\n",
    "\n",
    "def percentage2n(eigVals,percentage):  \n",
    "    sortArray=np.sort(eigVals)          #ascend order \n",
    "    sortArray=sortArray[-1::-1]           \n",
    "    arraySum=sum(sortArray)  \n",
    "    tmpSum=0  \n",
    "    num=0  \n",
    "    for i in sortArray:  \n",
    "        tmpSum+=i  \n",
    "        num+=1  \n",
    "        if tmpSum>=arraySum*percentage:  \n",
    "            return num  \n",
    "\n",
    "\n",
    "def pca(dataMat,percentage=0.99):  \n",
    "    newData,meanVal=zeroMean(dataMat)  \n",
    "    covMat=np.cov(newData,rowvar=0)      #covariance  \n",
    "    eigVals,eigVects=np.linalg.eig(np.mat(covMat))      \n",
    "    n=percentage2n(eigVals,percentage)                 #need n dimensionol data to get the convariance percentage\n",
    "    eigValIndice=np.argsort(eigVals)            #ascend order \n",
    "    n_eigValIndice=eigValIndice[-1:-(n+1):-1]   \n",
    "    n_eigVect=eigVects[:,n_eigValIndice]        \n",
    "    lowDDataMat=newData*n_eigVect               #lower dimensional data  \n",
    "    #reconMat=(lowDDataMat*n_eigVect.T)+meanVal  #reconstruct data  \n",
    "    return lowDDataMat,n"
   ]
  },
  {
   "cell_type": "markdown",
   "metadata": {},
   "source": [
    "**dimention too big to use this pca function**"
   ]
  },
  {
   "cell_type": "markdown",
   "metadata": {},
   "source": [
    "# create train and test datasets"
   ]
  },
  {
   "cell_type": "code",
   "execution_count": null,
   "metadata": {},
   "outputs": [],
   "source": [
    "x_train = features[0:122384]\n",
    "x_train.shape"
   ]
  },
  {
   "cell_type": "code",
   "execution_count": 27,
   "metadata": {},
   "outputs": [
    {
     "data": {
      "text/plain": [
       "(122384, 9736)"
      ]
     },
     "execution_count": 27,
     "metadata": {},
     "output_type": "execute_result"
    }
   ],
   "source": [
    "x_test = features[122384:244768]\n",
    "x_test.shape"
   ]
  },
  {
   "cell_type": "code",
   "execution_count": null,
   "metadata": {},
   "outputs": [],
   "source": [
    "y_train = salary[0:122384]\n",
    "y_train.shape"
   ]
  },
  {
   "cell_type": "code",
   "execution_count": 28,
   "metadata": {},
   "outputs": [
    {
     "data": {
      "text/plain": [
       "(122384,)"
      ]
     },
     "execution_count": 28,
     "metadata": {},
     "output_type": "execute_result"
    }
   ],
   "source": [
    "y_test = salary[122384:244768]\n",
    "y_test.shape"
   ]
  },
  {
   "cell_type": "code",
   "execution_count": 29,
   "metadata": {},
   "outputs": [],
   "source": [
    "y_test = np.log(y_test)"
   ]
  },
  {
   "cell_type": "code",
   "execution_count": null,
   "metadata": {},
   "outputs": [],
   "source": [
    "del features, salary"
   ]
  },
  {
   "cell_type": "markdown",
   "metadata": {},
   "source": [
    "# build model"
   ]
  },
  {
   "cell_type": "code",
   "execution_count": 19,
   "metadata": {},
   "outputs": [
    {
     "name": "stdout",
     "output_type": "stream",
     "text": [
      "WARNING:tensorflow:From E:\\Anaconda\\envs\\tensorflow\\lib\\site-packages\\keras\\backend\\tensorflow_backend.py:1349: calling reduce_mean (from tensorflow.python.ops.math_ops) with keep_dims is deprecated and will be removed in a future version.\n",
      "Instructions for updating:\n",
      "keep_dims is deprecated, use keepdims instead\n",
      "_________________________________________________________________\n",
      "Layer (type)                 Output Shape              Param #   \n",
      "=================================================================\n",
      "dense_1 (Dense)              (None, 3000)              29211000  \n",
      "_________________________________________________________________\n",
      "dropout_1 (Dropout)          (None, 3000)              0         \n",
      "_________________________________________________________________\n",
      "dense_2 (Dense)              (None, 1500)              4501500   \n",
      "_________________________________________________________________\n",
      "dropout_2 (Dropout)          (None, 1500)              0         \n",
      "_________________________________________________________________\n",
      "dense_3 (Dense)              (None, 1000)              1501000   \n",
      "_________________________________________________________________\n",
      "dropout_3 (Dropout)          (None, 1000)              0         \n",
      "_________________________________________________________________\n",
      "dense_4 (Dense)              (None, 1)                 1001      \n",
      "=================================================================\n",
      "Total params: 35,214,501\n",
      "Trainable params: 35,214,501\n",
      "Non-trainable params: 0\n",
      "_________________________________________________________________\n",
      "None\n"
     ]
    }
   ],
   "source": [
    "# create model\n",
    "model = Sequential()\n",
    "model.add(Dense(3000,input_dim=9736, activation='relu',use_bias=True))\n",
    "#model.add(Dense(4000,input_dim=9736, activation='relu',use_bias=True)) # without fulldescription\n",
    "model.add(Dropout(0.5))\n",
    "model.add(Dense(1500, activation='relu',use_bias=True))\n",
    "model.add(Dropout(0.5))\n",
    "model.add(Dense(1000, activation='relu',use_bias=True))\n",
    "model.add(Dropout(0.5))\n",
    "model.add(Dense(1))\n",
    "# Compile model\n",
    "model.compile(loss='mean_squared_error', optimizer='adam')\n",
    "print(model.summary())"
   ]
  },
  {
   "cell_type": "code",
   "execution_count": 20,
   "metadata": {},
   "outputs": [],
   "source": [
    "# Change log_dir for differnt activation function, change the number for every run.\n",
    "tbCallBack = keras.callbacks.TensorBoard(log_dir='./tensorboard/3000-1500-1000-adam', histogram_freq=0, write_graph=True, write_images=True)"
   ]
  },
  {
   "cell_type": "markdown",
   "metadata": {},
   "source": [
    "**GTX960M  batch_size:1024  using around 50% of memory**"
   ]
  },
  {
   "cell_type": "code",
   "execution_count": 22,
   "metadata": {},
   "outputs": [
    {
     "name": "stdout",
     "output_type": "stream",
     "text": [
      "Train on 195814 samples, validate on 48954 samples\n",
      "Epoch 1/100\n",
      " - 95s - loss: 22332891.1447 - val_loss: 12929.3978\n",
      "Epoch 2/100\n",
      " - 98s - loss: 13113.8887 - val_loss: 11914.2255\n",
      "Epoch 3/100\n",
      " - 101s - loss: 12033.5939 - val_loss: 10812.1000\n",
      "Epoch 4/100\n",
      " - 97s - loss: 10840.9043 - val_loss: 9724.7503\n",
      "Epoch 5/100\n",
      " - 98s - loss: 9771.0594 - val_loss: 8676.6102\n",
      "Epoch 6/100\n",
      " - 99s - loss: 8686.3623 - val_loss: 7690.3445\n",
      "Epoch 7/100\n",
      " - 98s - loss: 7703.1771 - val_loss: 6772.6240\n",
      "Epoch 8/100\n",
      " - 98s - loss: 6787.5582 - val_loss: 5940.2919\n",
      "Epoch 9/100\n",
      " - 95s - loss: 5953.6878 - val_loss: 5192.4488\n",
      "Epoch 10/100\n",
      " - 96s - loss: 5208.2251 - val_loss: 4525.9952\n",
      "Epoch 11/100\n",
      " - 98s - loss: 4538.9236 - val_loss: 3933.8009\n",
      "Epoch 12/100\n",
      " - 93s - loss: 3964.9334 - val_loss: 3414.9885\n",
      "Epoch 13/100\n",
      " - 95s - loss: 3438.1585 - val_loss: 2957.9668\n",
      "Epoch 14/100\n",
      " - 100s - loss: 2994.9079 - val_loss: 2560.5042\n",
      "Epoch 15/100\n",
      " - 94s - loss: 2597.9756 - val_loss: 2211.2572\n",
      "Epoch 16/100\n",
      " - 97s - loss: 2247.9089 - val_loss: 1911.4798\n",
      "Epoch 17/100\n",
      " - 98s - loss: 1947.1213 - val_loss: 1649.8525\n",
      "Epoch 18/100\n",
      " - 97s - loss: 1682.3103 - val_loss: 1422.4421\n",
      "Epoch 19/100\n",
      " - 94s - loss: 1452.7082 - val_loss: 1224.3254\n",
      "Epoch 20/100\n",
      " - 95s - loss: 1254.2035 - val_loss: 1054.6769\n",
      "Epoch 21/100\n",
      " - 100s - loss: 1080.9074 - val_loss: 907.1003\n",
      "Epoch 22/100\n",
      " - 95s - loss: 934.5783 - val_loss: 780.0652\n",
      "Epoch 23/100\n",
      " - 91s - loss: 803.5554 - val_loss: 670.2782\n",
      "Epoch 24/100\n",
      " - 93s - loss: 694.0541 - val_loss: 575.7167\n",
      "Epoch 25/100\n",
      " - 95s - loss: 596.6093 - val_loss: 494.0065\n",
      "Epoch 26/100\n",
      " - 96s - loss: 512.0300 - val_loss: 423.7353\n",
      "Epoch 27/100\n",
      " - 99s - loss: 442.3514 - val_loss: 362.5854\n",
      "Epoch 28/100\n",
      " - 94s - loss: 375.5538 - val_loss: 310.5231\n",
      "Epoch 29/100\n",
      " - 96s - loss: 323.1213 - val_loss: 265.7144\n",
      "Epoch 30/100\n",
      " - 96s - loss: 276.6870 - val_loss: 227.2151\n",
      "Epoch 31/100\n",
      " - 92s - loss: 236.3629 - val_loss: 193.9121\n",
      "Epoch 32/100\n",
      " - 89s - loss: 202.4405 - val_loss: 165.6557\n",
      "Epoch 33/100\n",
      " - 96s - loss: 173.3217 - val_loss: 141.4770\n",
      "Epoch 34/100\n",
      " - 94s - loss: 148.2449 - val_loss: 120.7061\n",
      "Epoch 35/100\n",
      " - 95s - loss: 125.2740 - val_loss: 102.8691\n",
      "Epoch 36/100\n",
      " - 92s - loss: 106.7819 - val_loss: 88.1391\n",
      "Epoch 37/100\n",
      " - 96s - loss: 81.7693 - val_loss: 18.3805\n",
      "Epoch 38/100\n",
      " - 94s - loss: 42.7823 - val_loss: 14.2072\n",
      "Epoch 39/100\n",
      " - 95s - loss: 39.3767 - val_loss: 12.7775\n",
      "Epoch 40/100\n",
      " - 92s - loss: 22.1430 - val_loss: 4.6044\n",
      "Epoch 41/100\n",
      " - 95s - loss: 3.3365 - val_loss: 4.7977\n",
      "Epoch 42/100\n",
      " - 91s - loss: 2.0234 - val_loss: 4.2538\n",
      "Epoch 43/100\n",
      " - 97s - loss: 1.5312 - val_loss: 4.3462\n",
      "Epoch 44/100\n",
      " - 94s - loss: 1.3520 - val_loss: 4.0717\n",
      "Epoch 45/100\n",
      " - 89s - loss: 1.2515 - val_loss: 3.8882\n",
      "Epoch 46/100\n",
      " - 96s - loss: 1.2917 - val_loss: 3.6883\n",
      "Epoch 47/100\n",
      " - 93s - loss: 1.2086 - val_loss: 4.1120\n",
      "Epoch 48/100\n",
      " - 91s - loss: 1.0602 - val_loss: 3.6842\n",
      "Epoch 49/100\n",
      " - 94s - loss: 1.0845 - val_loss: 3.9678\n",
      "Epoch 50/100\n",
      " - 91s - loss: 1.0384 - val_loss: 3.7369\n",
      "Epoch 51/100\n",
      " - 91s - loss: 0.9819 - val_loss: 3.7998\n",
      "Epoch 52/100\n",
      " - 94s - loss: 1.0788 - val_loss: 3.6644\n",
      "Epoch 53/100\n",
      " - 97s - loss: 0.9534 - val_loss: 3.7471\n",
      "Epoch 54/100\n",
      " - 96s - loss: 0.9663 - val_loss: 3.7705\n",
      "Epoch 55/100\n",
      " - 96s - loss: 0.9840 - val_loss: 3.5612\n",
      "Epoch 56/100\n",
      " - 95s - loss: 0.8970 - val_loss: 3.6885\n",
      "Epoch 57/100\n",
      " - 98s - loss: 0.8750 - val_loss: 4.2091\n",
      "Epoch 58/100\n",
      " - 92s - loss: 0.8654 - val_loss: 3.5392\n",
      "Epoch 59/100\n",
      " - 95s - loss: 0.8898 - val_loss: 3.5516\n",
      "Epoch 60/100\n",
      " - 90s - loss: 0.9591 - val_loss: 4.0375\n",
      "Epoch 61/100\n",
      " - 95s - loss: 0.9083 - val_loss: 3.9525\n",
      "Epoch 62/100\n",
      " - 97s - loss: 0.8003 - val_loss: 3.8499\n",
      "Epoch 63/100\n",
      " - 97s - loss: 0.8079 - val_loss: 3.5466\n",
      "Epoch 64/100\n",
      " - 81s - loss: 0.7890 - val_loss: 3.6844\n",
      "Epoch 65/100\n",
      " - 93s - loss: 0.7679 - val_loss: 3.1404\n",
      "Epoch 66/100\n",
      " - 97s - loss: 0.7842 - val_loss: 3.5327\n",
      "Epoch 67/100\n",
      " - 91s - loss: 0.7684 - val_loss: 3.2147\n",
      "Epoch 68/100\n",
      " - 93s - loss: 0.7510 - val_loss: 3.5430\n",
      "Epoch 69/100\n",
      " - 93s - loss: 0.7426 - val_loss: 3.3395\n",
      "Epoch 70/100\n",
      " - 93s - loss: 0.7322 - val_loss: 3.4373\n",
      "Epoch 71/100\n",
      " - 95s - loss: 0.7195 - val_loss: 3.0972\n",
      "Epoch 72/100\n",
      " - 93s - loss: 0.7177 - val_loss: 3.3734\n",
      "Epoch 73/100\n",
      " - 93s - loss: 0.7081 - val_loss: 3.2180\n",
      "Epoch 74/100\n",
      " - 93s - loss: 0.7015 - val_loss: 3.8208\n",
      "Epoch 75/100\n",
      " - 95s - loss: 0.6908 - val_loss: 3.4712\n",
      "Epoch 76/100\n",
      " - 93s - loss: 0.6843 - val_loss: 3.9058\n",
      "Epoch 77/100\n",
      " - 98s - loss: 0.7526 - val_loss: 3.3184\n",
      "Epoch 78/100\n",
      " - 93s - loss: 0.6718 - val_loss: 3.4753\n",
      "Epoch 79/100\n",
      " - 96s - loss: 0.6595 - val_loss: 3.3343\n",
      "Epoch 80/100\n",
      " - 96s - loss: 0.6631 - val_loss: 3.4703\n",
      "Epoch 81/100\n",
      " - 95s - loss: 0.6595 - val_loss: 3.8077\n",
      "Epoch 82/100\n",
      " - 88s - loss: 0.6539 - val_loss: 3.0962\n",
      "Epoch 83/100\n",
      " - 95s - loss: 0.6471 - val_loss: 3.2497\n",
      "Epoch 84/100\n",
      " - 83s - loss: 0.8476 - val_loss: 3.7701\n",
      "Epoch 85/100\n",
      " - 88s - loss: 0.6446 - val_loss: 3.2948\n",
      "Epoch 86/100\n",
      " - 90s - loss: 0.6380 - val_loss: 3.9910\n",
      "Epoch 87/100\n",
      " - 92s - loss: 0.6312 - val_loss: 3.4214\n",
      "Epoch 88/100\n",
      " - 86s - loss: 0.6275 - val_loss: 3.6881\n",
      "Epoch 89/100\n",
      " - 94s - loss: 0.6201 - val_loss: 3.3914\n",
      "Epoch 90/100\n",
      " - 88s - loss: 0.6211 - val_loss: 3.1971\n",
      "Epoch 91/100\n",
      " - 95s - loss: 0.6114 - val_loss: 3.1450\n",
      "Epoch 92/100\n",
      " - 95s - loss: 0.6145 - val_loss: 3.6283\n",
      "Epoch 93/100\n",
      " - 90s - loss: 0.6075 - val_loss: 3.3293\n",
      "Epoch 94/100\n",
      " - 95s - loss: 0.5997 - val_loss: 3.0739\n",
      "Epoch 95/100\n",
      " - 88s - loss: 0.6136 - val_loss: 3.0789\n",
      "Epoch 96/100\n",
      " - 89s - loss: 0.5940 - val_loss: 3.5131\n",
      "Epoch 97/100\n",
      " - 94s - loss: 0.5900 - val_loss: 3.0694\n",
      "Epoch 98/100\n",
      " - 92s - loss: 0.5990 - val_loss: 3.4108\n",
      "Epoch 99/100\n",
      " - 93s - loss: 0.5873 - val_loss: 2.8551\n",
      "Epoch 100/100\n",
      " - 94s - loss: 0.5878 - val_loss: 3.1120\n"
     ]
    }
   ],
   "source": [
    "hist = model.fit(features, salary_log, batch_size=1024, epochs=100, shuffle=True,verbose=2,validation_split=0.2, callbacks = [tbCallBack])  "
   ]
  },
  {
   "cell_type": "markdown",
   "metadata": {},
   "source": [
    "**Save model**"
   ]
  },
  {
   "cell_type": "code",
   "execution_count": 26,
   "metadata": {},
   "outputs": [],
   "source": [
    "model.save('model_1.h5')"
   ]
  },
  {
   "cell_type": "markdown",
   "metadata": {},
   "source": [
    "**Evalueate in test data**"
   ]
  },
  {
   "cell_type": "code",
   "execution_count": 37,
   "metadata": {},
   "outputs": [],
   "source": [
    "salay_predict = model.predict(feature_test)\n",
    "# obtain orignal salay\n",
    "salay_predict = np.exp(salay_predict)"
   ]
  },
  {
   "cell_type": "code",
   "execution_count": 64,
   "metadata": {},
   "outputs": [
    {
     "data": {
      "text/plain": [
       "array([1.1708856e+14], dtype=float32)"
      ]
     },
     "execution_count": 64,
     "metadata": {},
     "output_type": "execute_result"
    }
   ],
   "source": [
    "mse = 0\n",
    "for n in range(0,len(ture_salay)):\n",
    "    diff = abs(ture_salay[n] - salay_predict[n])\n",
    "    diff_square = np.square(diff)\n",
    "    mse = mse + diff_square\n",
    "mse"
   ]
  },
  {
   "cell_type": "markdown",
   "metadata": {},
   "source": [
    "**Result so bad**"
   ]
  },
  {
   "cell_type": "markdown",
   "metadata": {},
   "source": [
    "# Adding earlystopping, BatchNormalization AND Change to sgd opt"
   ]
  },
  {
   "cell_type": "code",
   "execution_count": 10,
   "metadata": {},
   "outputs": [
    {
     "name": "stderr",
     "output_type": "stream",
     "text": [
      "E:\\Anaconda\\envs\\tensorflow\\lib\\site-packages\\ipykernel\\__main__.py:3: UserWarning: Update your `Dense` call to the Keras 2 API: `Dense(4000, kernel_initializer=\"uniform\", input_dim=9736)`\n",
      "  app.launch_new_instance()\n",
      "E:\\Anaconda\\envs\\tensorflow\\lib\\site-packages\\ipykernel\\__main__.py:8: UserWarning: Update your `Dense` call to the Keras 2 API: `Dense(1000, kernel_initializer=\"uniform\")`\n",
      "E:\\Anaconda\\envs\\tensorflow\\lib\\site-packages\\ipykernel\\__main__.py:13: UserWarning: Update your `Dense` call to the Keras 2 API: `Dense(1000, kernel_initializer=\"uniform\")`\n"
     ]
    },
    {
     "name": "stdout",
     "output_type": "stream",
     "text": [
      "WARNING:tensorflow:From E:\\Anaconda\\envs\\tensorflow\\lib\\site-packages\\keras\\backend\\tensorflow_backend.py:1349: calling reduce_mean (from tensorflow.python.ops.math_ops) with keep_dims is deprecated and will be removed in a future version.\n",
      "Instructions for updating:\n",
      "keep_dims is deprecated, use keepdims instead\n",
      "_________________________________________________________________\n",
      "Layer (type)                 Output Shape              Param #   \n",
      "=================================================================\n",
      "dense_2 (Dense)              (None, 4000)              38948000  \n",
      "_________________________________________________________________\n",
      "batch_normalization_1 (Batch (None, 4000)              16000     \n",
      "_________________________________________________________________\n",
      "activation_1 (Activation)    (None, 4000)              0         \n",
      "_________________________________________________________________\n",
      "dropout_1 (Dropout)          (None, 4000)              0         \n",
      "_________________________________________________________________\n",
      "dense_3 (Dense)              (None, 1000)              4001000   \n",
      "_________________________________________________________________\n",
      "batch_normalization_2 (Batch (None, 1000)              4000      \n",
      "_________________________________________________________________\n",
      "activation_2 (Activation)    (None, 1000)              0         \n",
      "_________________________________________________________________\n",
      "dropout_2 (Dropout)          (None, 1000)              0         \n",
      "_________________________________________________________________\n",
      "dense_4 (Dense)              (None, 1000)              1001000   \n",
      "_________________________________________________________________\n",
      "batch_normalization_3 (Batch (None, 1000)              4000      \n",
      "_________________________________________________________________\n",
      "activation_3 (Activation)    (None, 1000)              0         \n",
      "_________________________________________________________________\n",
      "dropout_3 (Dropout)          (None, 1000)              0         \n",
      "_________________________________________________________________\n",
      "dense_5 (Dense)              (None, 1)                 1001      \n",
      "=================================================================\n",
      "Total params: 43,975,001\n",
      "Trainable params: 43,963,001\n",
      "Non-trainable params: 12,000\n",
      "_________________________________________________________________\n",
      "None\n"
     ]
    }
   ],
   "source": [
    "# create model\n",
    "model = Sequential()\n",
    "model.add(Dense(4000,input_dim=9736, init='uniform'))\n",
    "model.add(keras.layers.normalization.BatchNormalization())\n",
    "model.add(Activation('relu'))\n",
    "model.add(Dropout(0.5))\n",
    "\n",
    "model.add(Dense(1000, init='uniform'))\n",
    "model.add(BatchNormalization())\n",
    "model.add(Activation('relu'))\n",
    "model.add(Dropout(0.5))\n",
    "\n",
    "model.add(Dense(1000, init='uniform'))\n",
    "model.add(BatchNormalization())\n",
    "model.add(Activation('relu'))\n",
    "model.add(Dropout(0.5))\n",
    "\n",
    "model.add(Dense(1))\n",
    "\n",
    "\n",
    "# Compile model\n",
    "sgd = SGD(lr=0.1, decay=1e-6, momentum=0.9, nesterov=True)\n",
    "model.compile(loss='mean_squared_error', optimizer='sgd')\n",
    "print(model.summary())"
   ]
  },
  {
   "cell_type": "code",
   "execution_count": 11,
   "metadata": {},
   "outputs": [],
   "source": [
    "early_stopping_monitor = EarlyStopping(monitor='val_loss', patience=3, verbose=0, mode='min')\n",
    "# Change log_dir for differnt activation function, change the number for every run.\n",
    "tbCallBack = keras.callbacks.TensorBoard(log_dir='./tensorboard/0', histogram_freq=0, write_graph=True, write_images=True)"
   ]
  },
  {
   "cell_type": "code",
   "execution_count": 12,
   "metadata": {},
   "outputs": [
    {
     "name": "stdout",
     "output_type": "stream",
     "text": [
      "Train on 232529 samples, validate on 12239 samples\n",
      "Epoch 1/100\n",
      " - 110s - loss: 67.6266 - val_loss: 0.2725\n",
      "Epoch 2/100\n",
      " - 99s - loss: 0.2392 - val_loss: 0.2289\n",
      "Epoch 3/100\n",
      " - 96s - loss: 0.2321 - val_loss: 0.2251\n",
      "Epoch 4/100\n",
      " - 96s - loss: 0.2316 - val_loss: 0.2245\n",
      "Epoch 5/100\n",
      " - 97s - loss: 0.2316 - val_loss: 0.2241\n",
      "Epoch 6/100\n",
      " - 99s - loss: 0.2310 - val_loss: 0.2235\n",
      "Epoch 7/100\n",
      " - 99s - loss: 0.2307 - val_loss: 0.2230\n",
      "Epoch 8/100\n",
      " - 91s - loss: 0.2301 - val_loss: 0.2223\n",
      "Epoch 9/100\n",
      " - 97s - loss: 0.2297 - val_loss: 0.2216\n",
      "Epoch 10/100\n",
      " - 94s - loss: 0.2293 - val_loss: 0.2209\n",
      "Epoch 11/100\n",
      " - 95s - loss: 0.2287 - val_loss: 0.2204\n",
      "Epoch 12/100\n",
      " - 96s - loss: 0.2283 - val_loss: 0.2198\n",
      "Epoch 13/100\n",
      " - 94s - loss: 0.2280 - val_loss: 0.2194\n",
      "Epoch 14/100\n",
      " - 94s - loss: 0.2277 - val_loss: 0.2188\n",
      "Epoch 15/100\n",
      " - 95s - loss: 0.2272 - val_loss: 0.2182\n",
      "Epoch 16/100\n",
      " - 95s - loss: 0.2269 - val_loss: 0.2180\n",
      "Epoch 17/100\n",
      " - 88s - loss: 0.2257 - val_loss: 0.2153\n",
      "Epoch 18/100\n",
      " - 87s - loss: 0.2248 - val_loss: 0.2144\n",
      "Epoch 19/100\n",
      " - 99s - loss: 0.2240 - val_loss: 0.2134\n",
      "Epoch 20/100\n",
      " - 95s - loss: 0.2229 - val_loss: 0.2134\n",
      "Epoch 21/100\n",
      " - 97s - loss: 0.2227 - val_loss: 0.2127\n",
      "Epoch 22/100\n",
      " - 96s - loss: 0.2218 - val_loss: 0.2118\n",
      "Epoch 23/100\n",
      " - 97s - loss: 0.2208 - val_loss: 0.2104\n",
      "Epoch 24/100\n",
      " - 96s - loss: 0.2199 - val_loss: 0.2097\n",
      "Epoch 25/100\n",
      " - 96s - loss: 0.2193 - val_loss: 0.2090\n",
      "Epoch 26/100\n",
      " - 94s - loss: 0.2185 - val_loss: 0.2079\n",
      "Epoch 27/100\n",
      " - 86s - loss: 0.2174 - val_loss: 0.2064\n",
      "Epoch 28/100\n",
      " - 93s - loss: 0.2171 - val_loss: 0.2057\n",
      "Epoch 29/100\n",
      " - 99s - loss: 0.2162 - val_loss: 0.2045\n",
      "Epoch 30/100\n",
      " - 96s - loss: 0.2154 - val_loss: 0.2040\n",
      "Epoch 31/100\n",
      " - 95s - loss: 0.2146 - val_loss: 0.2029\n",
      "Epoch 32/100\n",
      " - 95s - loss: 0.2138 - val_loss: 0.2020\n",
      "Epoch 33/100\n",
      " - 94s - loss: 0.2132 - val_loss: 0.2011\n",
      "Epoch 34/100\n",
      " - 96s - loss: 0.2127 - val_loss: 0.2002\n",
      "Epoch 35/100\n",
      " - 92s - loss: 0.2117 - val_loss: 0.1993\n",
      "Epoch 36/100\n",
      " - 97s - loss: 0.2116 - val_loss: 0.1991\n",
      "Epoch 37/100\n",
      " - 86s - loss: 0.2111 - val_loss: 0.1982\n",
      "Epoch 38/100\n",
      " - 94s - loss: 0.2103 - val_loss: 0.1975\n",
      "Epoch 39/100\n",
      " - 95s - loss: 0.2099 - val_loss: 0.1968\n",
      "Epoch 40/100\n",
      " - 95s - loss: 0.2099 - val_loss: 0.1964\n",
      "Epoch 41/100\n",
      " - 96s - loss: 0.2092 - val_loss: 0.1960\n",
      "Epoch 42/100\n",
      " - 98s - loss: 0.2087 - val_loss: 0.1954\n",
      "Epoch 43/100\n",
      " - 96s - loss: 0.2086 - val_loss: 0.1951\n",
      "Epoch 44/100\n",
      " - 97s - loss: 0.2086 - val_loss: 0.1948\n",
      "Epoch 45/100\n",
      " - 94s - loss: 0.2078 - val_loss: 0.1938\n",
      "Epoch 46/100\n",
      " - 87s - loss: 0.2075 - val_loss: 0.1937\n",
      "Epoch 47/100\n",
      " - 93s - loss: 0.2073 - val_loss: 0.1939\n",
      "Epoch 48/100\n",
      " - 95s - loss: 0.2065 - val_loss: 0.1928\n",
      "Epoch 49/100\n",
      " - 97s - loss: 0.2064 - val_loss: 0.1926\n",
      "Epoch 50/100\n",
      " - 95s - loss: 0.2060 - val_loss: 0.1921\n",
      "Epoch 51/100\n",
      " - 100s - loss: 0.2057 - val_loss: 0.1918\n",
      "Epoch 52/100\n",
      " - 95s - loss: 0.2054 - val_loss: 0.1917\n",
      "Epoch 53/100\n",
      " - 95s - loss: 0.2053 - val_loss: 0.1917\n",
      "Epoch 54/100\n",
      " - 93s - loss: 0.2052 - val_loss: 0.1913\n",
      "Epoch 55/100\n",
      " - 94s - loss: 0.2048 - val_loss: 0.1909\n",
      "Epoch 56/100\n",
      " - 95s - loss: 0.2045 - val_loss: 0.1905\n",
      "Epoch 57/100\n",
      " - 94s - loss: 0.2041 - val_loss: 0.1899\n",
      "Epoch 58/100\n",
      " - 94s - loss: 0.2035 - val_loss: 0.1898\n",
      "Epoch 59/100\n",
      " - 94s - loss: 0.2037 - val_loss: 0.1893\n",
      "Epoch 60/100\n",
      " - 93s - loss: 0.2034 - val_loss: 0.1890\n",
      "Epoch 61/100\n",
      " - 94s - loss: 0.2034 - val_loss: 0.1889\n",
      "Epoch 62/100\n",
      " - 95s - loss: 0.2025 - val_loss: 0.1888\n",
      "Epoch 63/100\n",
      " - 93s - loss: 0.2024 - val_loss: 0.1880\n",
      "Epoch 64/100\n",
      " - 90s - loss: 0.2018 - val_loss: 0.1880\n",
      "Epoch 65/100\n",
      " - 93s - loss: 0.2017 - val_loss: 0.1875\n",
      "Epoch 66/100\n",
      " - 91s - loss: 0.2014 - val_loss: 0.1878\n",
      "Epoch 67/100\n",
      " - 91s - loss: 0.2017 - val_loss: 0.1875\n",
      "Epoch 68/100\n",
      " - 93s - loss: 0.2010 - val_loss: 0.1875\n",
      "Epoch 69/100\n",
      " - 95s - loss: 0.2006 - val_loss: 0.1872\n",
      "Epoch 70/100\n",
      " - 97s - loss: 0.2000 - val_loss: 0.1867\n",
      "Epoch 71/100\n",
      " - 101s - loss: 0.2000 - val_loss: 0.1866\n",
      "Epoch 72/100\n",
      " - 97s - loss: 0.1996 - val_loss: 0.1867\n",
      "Epoch 73/100\n",
      " - 97s - loss: 0.1992 - val_loss: 0.1862\n",
      "Epoch 74/100\n",
      " - 94s - loss: 0.1987 - val_loss: 0.1858\n",
      "Epoch 75/100\n",
      " - 92s - loss: 0.1987 - val_loss: 0.1860\n",
      "Epoch 76/100\n",
      " - 92s - loss: 0.1982 - val_loss: 0.1857\n",
      "Epoch 77/100\n",
      " - 97s - loss: 0.1981 - val_loss: 0.1854\n",
      "Epoch 78/100\n",
      " - 96s - loss: 0.1977 - val_loss: 0.1851\n",
      "Epoch 79/100\n",
      " - 96s - loss: 0.1967 - val_loss: 0.1850\n",
      "Epoch 80/100\n",
      " - 96s - loss: 0.1966 - val_loss: 0.1851\n",
      "Epoch 81/100\n",
      " - 96s - loss: 0.1969 - val_loss: 0.1847\n",
      "Epoch 82/100\n",
      " - 97s - loss: 0.1963 - val_loss: 0.1853\n",
      "Epoch 83/100\n",
      " - 97s - loss: 0.1953 - val_loss: 0.1845\n",
      "Epoch 84/100\n",
      " - 95s - loss: 0.1957 - val_loss: 0.1845\n",
      "Epoch 85/100\n",
      " - 98s - loss: 0.1946 - val_loss: 0.1847\n",
      "Epoch 86/100\n",
      " - 97s - loss: 0.1941 - val_loss: 0.1842\n",
      "Epoch 87/100\n",
      " - 94s - loss: 0.1939 - val_loss: 0.1834\n",
      "Epoch 88/100\n",
      " - 96s - loss: 0.1938 - val_loss: 0.1833\n",
      "Epoch 89/100\n",
      " - 97s - loss: 0.1932 - val_loss: 0.1836\n",
      "Epoch 90/100\n",
      " - 97s - loss: 0.1930 - val_loss: 0.1836\n",
      "Epoch 91/100\n",
      " - 96s - loss: 0.1924 - val_loss: 0.1838\n"
     ]
    }
   ],
   "source": [
    "hist = model.fit(features, salary_log, batch_size=1024, epochs=100, shuffle=True,verbose=2,validation_split=0.05, callbacks = [tbCallBack,early_stopping_monitor])  "
   ]
  },
  {
   "cell_type": "code",
   "execution_count": 13,
   "metadata": {},
   "outputs": [],
   "source": [
    "model.save('model_2.h5')"
   ]
  },
  {
   "cell_type": "markdown",
   "metadata": {},
   "source": [
    "** It could find the early stopping used**"
   ]
  },
  {
   "cell_type": "markdown",
   "metadata": {},
   "source": [
    "**Evalueate in test data**"
   ]
  },
  {
   "cell_type": "code",
   "execution_count": 16,
   "metadata": {},
   "outputs": [
    {
     "name": "stdout",
     "output_type": "stream",
     "text": [
      "Wall time: 42.3 s\n"
     ]
    }
   ],
   "source": [
    "%%time\n",
    "salay_predict = model.predict(feature_test)\n",
    "# obtain orignal salay\n",
    "salay_predict = np.exp(salay_predict)"
   ]
  },
  {
   "cell_type": "code",
   "execution_count": 19,
   "metadata": {},
   "outputs": [
    {
     "data": {
      "text/plain": [
       "array([1.09342409e+08])"
      ]
     },
     "execution_count": 19,
     "metadata": {},
     "output_type": "execute_result"
    }
   ],
   "source": [
    "mse = 0\n",
    "for n in range(0,len(ture_salay)):\n",
    "    diff = abs(ture_salay[n] - salay_predict[n])\n",
    "    diff_square = np.square(diff)\n",
    "    mse = mse + diff_square\n",
    "mse = mse/len(ture_salay)\n",
    "mse"
   ]
  },
  {
   "cell_type": "code",
   "execution_count": 26,
   "metadata": {},
   "outputs": [
    {
     "name": "stdout",
     "output_type": "stream",
     "text": [
      "average diff of predicted data is  [30.56017192] %\n"
     ]
    }
   ],
   "source": [
    "avrage_data = np.sqrt(mse)/np.mean(ture_salay)\n",
    "print('average diff of predicted data is ',avrage_data*100,'%')"
   ]
  },
  {
   "cell_type": "markdown",
   "metadata": {},
   "source": [
    "**Result still not good**"
   ]
  },
  {
   "cell_type": "markdown",
   "metadata": {},
   "source": [
    "# Adding earlystopping, BatchNormalization AND Change to adam opt"
   ]
  },
  {
   "cell_type": "code",
   "execution_count": null,
   "metadata": {},
   "outputs": [],
   "source": []
  }
 ],
 "metadata": {
  "anaconda-cloud": {},
  "kernelspec": {
   "display_name": "Python [conda env:tensorflow]",
   "language": "python",
   "name": "conda-env-tensorflow-py"
  },
  "language_info": {
   "codemirror_mode": {
    "name": "ipython",
    "version": 3
   },
   "file_extension": ".py",
   "mimetype": "text/x-python",
   "name": "python",
   "nbconvert_exporter": "python",
   "pygments_lexer": "ipython3",
   "version": "3.5.4"
  }
 },
 "nbformat": 4,
 "nbformat_minor": 1
}
