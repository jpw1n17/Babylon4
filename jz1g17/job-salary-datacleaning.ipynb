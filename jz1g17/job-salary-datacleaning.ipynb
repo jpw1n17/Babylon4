{
 "cells": [
  {
   "cell_type": "markdown",
   "metadata": {},
   "source": [
    "![image](https://raw.githubusercontent.com/Trouble404/kaggle-Job-Salary-Prediction/master/readme_pic/describtion.PNG)"
   ]
  },
  {
   "cell_type": "markdown",
   "metadata": {},
   "source": [
    "# Load Dataset "
   ]
  },
  {
   "cell_type": "code",
   "execution_count": 1,
   "metadata": {},
   "outputs": [],
   "source": [
    "import numpy as np\n",
    "import pandas as pd\n",
    "import matplotlib.pyplot as plt\n",
    "from tqdm import tqdm\n",
    "import warnings\n",
    "warnings.filterwarnings(\"ignore\")"
   ]
  },
  {
   "cell_type": "code",
   "execution_count": 14,
   "metadata": {},
   "outputs": [
    {
     "data": {
      "text/html": [
       "<div>\n",
       "<style scoped>\n",
       "    .dataframe tbody tr th:only-of-type {\n",
       "        vertical-align: middle;\n",
       "    }\n",
       "\n",
       "    .dataframe tbody tr th {\n",
       "        vertical-align: top;\n",
       "    }\n",
       "\n",
       "    .dataframe thead th {\n",
       "        text-align: right;\n",
       "    }\n",
       "</style>\n",
       "<table border=\"1\" class=\"dataframe\">\n",
       "  <thead>\n",
       "    <tr style=\"text-align: right;\">\n",
       "      <th></th>\n",
       "      <th>Id</th>\n",
       "      <th>Title</th>\n",
       "      <th>FullDescription</th>\n",
       "      <th>LocationRaw</th>\n",
       "      <th>LocationNormalized</th>\n",
       "      <th>ContractType</th>\n",
       "      <th>ContractTime</th>\n",
       "      <th>Company</th>\n",
       "      <th>Category</th>\n",
       "      <th>SourceName</th>\n",
       "    </tr>\n",
       "  </thead>\n",
       "  <tbody>\n",
       "    <tr>\n",
       "      <th>0</th>\n",
       "      <td>13656201</td>\n",
       "      <td>Lead Technical Architect, C  Banking</td>\n",
       "      <td>Lead Technical Architect required for a Tier *...</td>\n",
       "      <td>London</td>\n",
       "      <td>London</td>\n",
       "      <td>NaN</td>\n",
       "      <td>permanent</td>\n",
       "      <td>Scope AT Limited</td>\n",
       "      <td>IT Jobs</td>\n",
       "      <td>jobserve.com</td>\n",
       "    </tr>\n",
       "    <tr>\n",
       "      <th>1</th>\n",
       "      <td>14663195</td>\n",
       "      <td>RECRUITMENT CONSULTANT  INDUSTRIAL / COMMERCIA...</td>\n",
       "      <td>THIS IS A LIVE VACANCY NOT A GENERIC ADVERTISE...</td>\n",
       "      <td>LEEDS, West Yorkshire</td>\n",
       "      <td>Leeds</td>\n",
       "      <td>NaN</td>\n",
       "      <td>permanent</td>\n",
       "      <td>Code Blue Recruitment</td>\n",
       "      <td>HR &amp; Recruitment Jobs</td>\n",
       "      <td>cv-library.co.uk</td>\n",
       "    </tr>\n",
       "    <tr>\n",
       "      <th>2</th>\n",
       "      <td>16530664</td>\n",
       "      <td>Mechanical / Chemical / Process Engineer  Cool...</td>\n",
       "      <td>Mechanical / Chemical / Process Engineer  Cool...</td>\n",
       "      <td>Hampshire, South East</td>\n",
       "      <td>Hampshire</td>\n",
       "      <td>NaN</td>\n",
       "      <td>permanent</td>\n",
       "      <td>Gregory Martin International</td>\n",
       "      <td>Engineering Jobs</td>\n",
       "      <td>cv-library.co.uk</td>\n",
       "    </tr>\n",
       "    <tr>\n",
       "      <th>3</th>\n",
       "      <td>19047458</td>\n",
       "      <td>Trainee Mortgage Advisor  West Midlands</td>\n",
       "      <td>Are you a successful, results driven person? A...</td>\n",
       "      <td>West Midlands</td>\n",
       "      <td>West Midlands</td>\n",
       "      <td>NaN</td>\n",
       "      <td>permanent</td>\n",
       "      <td>Brite Recruitment</td>\n",
       "      <td>Accounting &amp; Finance Jobs</td>\n",
       "      <td>cv-library.co.uk</td>\n",
       "    </tr>\n",
       "    <tr>\n",
       "      <th>4</th>\n",
       "      <td>20881907</td>\n",
       "      <td>Mortgage Services Consultant  East Midlands</td>\n",
       "      <td>Are you a successful, results driven person? D...</td>\n",
       "      <td>East Midlands</td>\n",
       "      <td>East Midlands</td>\n",
       "      <td>NaN</td>\n",
       "      <td>permanent</td>\n",
       "      <td>Brite Recruitment</td>\n",
       "      <td>Accounting &amp; Finance Jobs</td>\n",
       "      <td>cv-library.co.uk</td>\n",
       "    </tr>\n",
       "  </tbody>\n",
       "</table>\n",
       "</div>"
      ],
      "text/plain": [
       "         Id                                              Title  \\\n",
       "0  13656201               Lead Technical Architect, C  Banking   \n",
       "1  14663195  RECRUITMENT CONSULTANT  INDUSTRIAL / COMMERCIA...   \n",
       "2  16530664  Mechanical / Chemical / Process Engineer  Cool...   \n",
       "3  19047458            Trainee Mortgage Advisor  West Midlands   \n",
       "4  20881907        Mortgage Services Consultant  East Midlands   \n",
       "\n",
       "                                     FullDescription            LocationRaw  \\\n",
       "0  Lead Technical Architect required for a Tier *...                 London   \n",
       "1  THIS IS A LIVE VACANCY NOT A GENERIC ADVERTISE...  LEEDS, West Yorkshire   \n",
       "2  Mechanical / Chemical / Process Engineer  Cool...  Hampshire, South East   \n",
       "3  Are you a successful, results driven person? A...          West Midlands   \n",
       "4  Are you a successful, results driven person? D...          East Midlands   \n",
       "\n",
       "  LocationNormalized ContractType ContractTime                       Company  \\\n",
       "0             London          NaN    permanent              Scope AT Limited   \n",
       "1              Leeds          NaN    permanent         Code Blue Recruitment   \n",
       "2          Hampshire          NaN    permanent  Gregory Martin International   \n",
       "3      West Midlands          NaN    permanent             Brite Recruitment   \n",
       "4      East Midlands          NaN    permanent             Brite Recruitment   \n",
       "\n",
       "                    Category        SourceName  \n",
       "0                    IT Jobs      jobserve.com  \n",
       "1      HR & Recruitment Jobs  cv-library.co.uk  \n",
       "2           Engineering Jobs  cv-library.co.uk  \n",
       "3  Accounting & Finance Jobs  cv-library.co.uk  \n",
       "4  Accounting & Finance Jobs  cv-library.co.uk  "
      ]
     },
     "execution_count": 14,
     "metadata": {},
     "output_type": "execute_result"
    }
   ],
   "source": [
    "First_Valid = pd.read_csv('dataset\\Valid_rev1.csv')\n",
    "First_Valid.head()"
   ]
  },
  {
   "cell_type": "markdown",
   "metadata": {},
   "source": [
    "** What's the use of valid data? Difference between trian data?**"
   ]
  },
  {
   "cell_type": "code",
   "execution_count": 7,
   "metadata": {},
   "outputs": [
    {
     "data": {
      "text/html": [
       "<div>\n",
       "<style scoped>\n",
       "    .dataframe tbody tr th:only-of-type {\n",
       "        vertical-align: middle;\n",
       "    }\n",
       "\n",
       "    .dataframe tbody tr th {\n",
       "        vertical-align: top;\n",
       "    }\n",
       "\n",
       "    .dataframe thead th {\n",
       "        text-align: right;\n",
       "    }\n",
       "</style>\n",
       "<table border=\"1\" class=\"dataframe\">\n",
       "  <thead>\n",
       "    <tr style=\"text-align: right;\">\n",
       "      <th></th>\n",
       "      <th>Id</th>\n",
       "      <th>Title</th>\n",
       "      <th>FullDescription</th>\n",
       "      <th>LocationRaw</th>\n",
       "      <th>LocationNormalized</th>\n",
       "      <th>ContractType</th>\n",
       "      <th>ContractTime</th>\n",
       "      <th>Company</th>\n",
       "      <th>Category</th>\n",
       "      <th>SalaryRaw</th>\n",
       "      <th>SalaryNormalized</th>\n",
       "      <th>SourceName</th>\n",
       "    </tr>\n",
       "  </thead>\n",
       "  <tbody>\n",
       "    <tr>\n",
       "      <th>0</th>\n",
       "      <td>12612628</td>\n",
       "      <td>Engineering Systems Analyst</td>\n",
       "      <td>Engineering Systems Analyst Dorking Surrey Sal...</td>\n",
       "      <td>Dorking, Surrey, Surrey</td>\n",
       "      <td>Dorking</td>\n",
       "      <td>NaN</td>\n",
       "      <td>permanent</td>\n",
       "      <td>Gregory Martin International</td>\n",
       "      <td>Engineering Jobs</td>\n",
       "      <td>20000 - 30000/annum 20-30K</td>\n",
       "      <td>25000</td>\n",
       "      <td>cv-library.co.uk</td>\n",
       "    </tr>\n",
       "    <tr>\n",
       "      <th>1</th>\n",
       "      <td>12612830</td>\n",
       "      <td>Stress Engineer Glasgow</td>\n",
       "      <td>Stress Engineer Glasgow Salary **** to **** We...</td>\n",
       "      <td>Glasgow, Scotland, Scotland</td>\n",
       "      <td>Glasgow</td>\n",
       "      <td>NaN</td>\n",
       "      <td>permanent</td>\n",
       "      <td>Gregory Martin International</td>\n",
       "      <td>Engineering Jobs</td>\n",
       "      <td>25000 - 35000/annum 25-35K</td>\n",
       "      <td>30000</td>\n",
       "      <td>cv-library.co.uk</td>\n",
       "    </tr>\n",
       "    <tr>\n",
       "      <th>2</th>\n",
       "      <td>12612844</td>\n",
       "      <td>Modelling and simulation analyst</td>\n",
       "      <td>Mathematical Modeller / Simulation Analyst / O...</td>\n",
       "      <td>Hampshire, South East, South East</td>\n",
       "      <td>Hampshire</td>\n",
       "      <td>NaN</td>\n",
       "      <td>permanent</td>\n",
       "      <td>Gregory Martin International</td>\n",
       "      <td>Engineering Jobs</td>\n",
       "      <td>20000 - 40000/annum 20-40K</td>\n",
       "      <td>30000</td>\n",
       "      <td>cv-library.co.uk</td>\n",
       "    </tr>\n",
       "    <tr>\n",
       "      <th>3</th>\n",
       "      <td>12613049</td>\n",
       "      <td>Engineering Systems Analyst / Mathematical Mod...</td>\n",
       "      <td>Engineering Systems Analyst / Mathematical Mod...</td>\n",
       "      <td>Surrey, South East, South East</td>\n",
       "      <td>Surrey</td>\n",
       "      <td>NaN</td>\n",
       "      <td>permanent</td>\n",
       "      <td>Gregory Martin International</td>\n",
       "      <td>Engineering Jobs</td>\n",
       "      <td>25000 - 30000/annum 25K-30K negotiable</td>\n",
       "      <td>27500</td>\n",
       "      <td>cv-library.co.uk</td>\n",
       "    </tr>\n",
       "    <tr>\n",
       "      <th>4</th>\n",
       "      <td>12613647</td>\n",
       "      <td>Pioneer, Miser Engineering Systems Analyst</td>\n",
       "      <td>Pioneer, Miser  Engineering Systems Analyst Do...</td>\n",
       "      <td>Surrey, South East, South East</td>\n",
       "      <td>Surrey</td>\n",
       "      <td>NaN</td>\n",
       "      <td>permanent</td>\n",
       "      <td>Gregory Martin International</td>\n",
       "      <td>Engineering Jobs</td>\n",
       "      <td>20000 - 30000/annum 20-30K</td>\n",
       "      <td>25000</td>\n",
       "      <td>cv-library.co.uk</td>\n",
       "    </tr>\n",
       "  </tbody>\n",
       "</table>\n",
       "</div>"
      ],
      "text/plain": [
       "         Id                                              Title  \\\n",
       "0  12612628                        Engineering Systems Analyst   \n",
       "1  12612830                            Stress Engineer Glasgow   \n",
       "2  12612844                   Modelling and simulation analyst   \n",
       "3  12613049  Engineering Systems Analyst / Mathematical Mod...   \n",
       "4  12613647         Pioneer, Miser Engineering Systems Analyst   \n",
       "\n",
       "                                     FullDescription  \\\n",
       "0  Engineering Systems Analyst Dorking Surrey Sal...   \n",
       "1  Stress Engineer Glasgow Salary **** to **** We...   \n",
       "2  Mathematical Modeller / Simulation Analyst / O...   \n",
       "3  Engineering Systems Analyst / Mathematical Mod...   \n",
       "4  Pioneer, Miser  Engineering Systems Analyst Do...   \n",
       "\n",
       "                         LocationRaw LocationNormalized ContractType  \\\n",
       "0            Dorking, Surrey, Surrey            Dorking          NaN   \n",
       "1        Glasgow, Scotland, Scotland            Glasgow          NaN   \n",
       "2  Hampshire, South East, South East          Hampshire          NaN   \n",
       "3     Surrey, South East, South East             Surrey          NaN   \n",
       "4     Surrey, South East, South East             Surrey          NaN   \n",
       "\n",
       "  ContractTime                       Company          Category  \\\n",
       "0    permanent  Gregory Martin International  Engineering Jobs   \n",
       "1    permanent  Gregory Martin International  Engineering Jobs   \n",
       "2    permanent  Gregory Martin International  Engineering Jobs   \n",
       "3    permanent  Gregory Martin International  Engineering Jobs   \n",
       "4    permanent  Gregory Martin International  Engineering Jobs   \n",
       "\n",
       "                                SalaryRaw  SalaryNormalized        SourceName  \n",
       "0              20000 - 30000/annum 20-30K             25000  cv-library.co.uk  \n",
       "1              25000 - 35000/annum 25-35K             30000  cv-library.co.uk  \n",
       "2              20000 - 40000/annum 20-40K             30000  cv-library.co.uk  \n",
       "3  25000 - 30000/annum 25K-30K negotiable             27500  cv-library.co.uk  \n",
       "4              20000 - 30000/annum 20-30K             25000  cv-library.co.uk  "
      ]
     },
     "execution_count": 7,
     "metadata": {},
     "output_type": "execute_result"
    }
   ],
   "source": [
    "First_Train = pd.read_csv('dataset\\Train_rev1.csv')\n",
    "First_Train.head()"
   ]
  },
  {
   "cell_type": "markdown",
   "metadata": {},
   "source": [
    "**Train dataset contains 244768 rows × 12 columns**\n",
    "\n",
    "* Id - A unique identitier for each job ad.\n",
    "* Title - A freetext field supplied to us by the job advertiser as the Title of the job ad.\n",
    "* LocationRaw - The freetext location as provided by the job advertiser.\n",
    "* LocationNormalized - Adzuna's normalised location from within our own location tree, interpreted by us based on the raw location. This normaliser is not **perfect**.\n",
    "* ContractType - full_time or part_time, interpreted by Adzuna from description or a specific additional field we received from the advertiser.\n",
    "* ContractTime - permanent or contract, interpreted by Adzuna from description or a specific additional field we received from the advertiser.\n",
    "* Company - the name of the employer as supplied to us by the job advertiser.\n",
    "* Category - which of 30 standard job categories this ad fits into, inferred in a very messy way based on the source the ad came from. There is a lot of **noise** and **error** in this field.\n",
    "* SalaryRaw - the freetext salary field we received in the job advert from the advertiser.\n",
    "* SalaryNormalised - the annualised salary interpreted by Adzuna from the raw salary.  Note that this is always a single value based on the midpoint of any range found in the raw salary.  This is the value we are trying to predict.\n",
    "* SourceName - the name of the website or advertiser from whom we received the job advert. "
   ]
  },
  {
   "cell_type": "code",
   "execution_count": 9,
   "metadata": {},
   "outputs": [
    {
     "data": {
      "text/html": [
       "<div>\n",
       "<style scoped>\n",
       "    .dataframe tbody tr th:only-of-type {\n",
       "        vertical-align: middle;\n",
       "    }\n",
       "\n",
       "    .dataframe tbody tr th {\n",
       "        vertical-align: top;\n",
       "    }\n",
       "\n",
       "    .dataframe thead th {\n",
       "        text-align: right;\n",
       "    }\n",
       "</style>\n",
       "<table border=\"1\" class=\"dataframe\">\n",
       "  <thead>\n",
       "    <tr style=\"text-align: right;\">\n",
       "      <th></th>\n",
       "      <th>Id</th>\n",
       "      <th>Title</th>\n",
       "      <th>FullDescription</th>\n",
       "      <th>LocationRaw</th>\n",
       "      <th>LocationNormalized</th>\n",
       "      <th>ContractType</th>\n",
       "      <th>ContractTime</th>\n",
       "      <th>Company</th>\n",
       "      <th>Category</th>\n",
       "      <th>SourceName</th>\n",
       "    </tr>\n",
       "  </thead>\n",
       "  <tbody>\n",
       "    <tr>\n",
       "      <th>0</th>\n",
       "      <td>11888454</td>\n",
       "      <td>Business Development Manager</td>\n",
       "      <td>The Company: Our client is a national training...</td>\n",
       "      <td>Tyne Wear, North East</td>\n",
       "      <td>Newcastle Upon Tyne</td>\n",
       "      <td>NaN</td>\n",
       "      <td>permanent</td>\n",
       "      <td>Asset Appointments</td>\n",
       "      <td>Teaching Jobs</td>\n",
       "      <td>cv-library.co.uk</td>\n",
       "    </tr>\n",
       "    <tr>\n",
       "      <th>1</th>\n",
       "      <td>11988350</td>\n",
       "      <td>Internal Account Manager</td>\n",
       "      <td>The Company: Founded in **** our client is a U...</td>\n",
       "      <td>Tyne and Wear, North East</td>\n",
       "      <td>Newcastle Upon Tyne</td>\n",
       "      <td>NaN</td>\n",
       "      <td>permanent</td>\n",
       "      <td>Asset Appointments</td>\n",
       "      <td>Consultancy Jobs</td>\n",
       "      <td>cv-library.co.uk</td>\n",
       "    </tr>\n",
       "    <tr>\n",
       "      <th>2</th>\n",
       "      <td>12612558</td>\n",
       "      <td>Engineering Systems Analysts</td>\n",
       "      <td>Engineering Systems Analysts Surrey ****K Loca...</td>\n",
       "      <td>Surrey, South East, South East</td>\n",
       "      <td>Surrey</td>\n",
       "      <td>NaN</td>\n",
       "      <td>permanent</td>\n",
       "      <td>Gregory Martin International</td>\n",
       "      <td>Engineering Jobs</td>\n",
       "      <td>cv-library.co.uk</td>\n",
       "    </tr>\n",
       "    <tr>\n",
       "      <th>3</th>\n",
       "      <td>12613014</td>\n",
       "      <td>CIS Systems Engineering Consultant</td>\n",
       "      <td>CIS Systems Engineering Consultant Bristol  So...</td>\n",
       "      <td>Bristol, South West, South West</td>\n",
       "      <td>Bristol</td>\n",
       "      <td>NaN</td>\n",
       "      <td>permanent</td>\n",
       "      <td>Gregory Martin International</td>\n",
       "      <td>Engineering Jobs</td>\n",
       "      <td>cv-library.co.uk</td>\n",
       "    </tr>\n",
       "    <tr>\n",
       "      <th>4</th>\n",
       "      <td>22454872</td>\n",
       "      <td>CNC Miller / Programmer Fanac</td>\n",
       "      <td>CNC Miller / Programmer Fanac Fleet, Hampshire...</td>\n",
       "      <td>Fleet, Hampshire</td>\n",
       "      <td>Fleet</td>\n",
       "      <td>NaN</td>\n",
       "      <td>permanent</td>\n",
       "      <td>Gregory Martin International</td>\n",
       "      <td>Manufacturing Jobs</td>\n",
       "      <td>cv-library.co.uk</td>\n",
       "    </tr>\n",
       "  </tbody>\n",
       "</table>\n",
       "</div>"
      ],
      "text/plain": [
       "         Id                               Title  \\\n",
       "0  11888454        Business Development Manager   \n",
       "1  11988350            Internal Account Manager   \n",
       "2  12612558        Engineering Systems Analysts   \n",
       "3  12613014  CIS Systems Engineering Consultant   \n",
       "4  22454872       CNC Miller / Programmer Fanac   \n",
       "\n",
       "                                     FullDescription  \\\n",
       "0  The Company: Our client is a national training...   \n",
       "1  The Company: Founded in **** our client is a U...   \n",
       "2  Engineering Systems Analysts Surrey ****K Loca...   \n",
       "3  CIS Systems Engineering Consultant Bristol  So...   \n",
       "4  CNC Miller / Programmer Fanac Fleet, Hampshire...   \n",
       "\n",
       "                       LocationRaw   LocationNormalized ContractType  \\\n",
       "0            Tyne Wear, North East  Newcastle Upon Tyne          NaN   \n",
       "1        Tyne and Wear, North East  Newcastle Upon Tyne          NaN   \n",
       "2   Surrey, South East, South East               Surrey          NaN   \n",
       "3  Bristol, South West, South West              Bristol          NaN   \n",
       "4                 Fleet, Hampshire                Fleet          NaN   \n",
       "\n",
       "  ContractTime                       Company            Category  \\\n",
       "0    permanent            Asset Appointments       Teaching Jobs   \n",
       "1    permanent            Asset Appointments    Consultancy Jobs   \n",
       "2    permanent  Gregory Martin International    Engineering Jobs   \n",
       "3    permanent  Gregory Martin International    Engineering Jobs   \n",
       "4    permanent  Gregory Martin International  Manufacturing Jobs   \n",
       "\n",
       "         SourceName  \n",
       "0  cv-library.co.uk  \n",
       "1  cv-library.co.uk  \n",
       "2  cv-library.co.uk  \n",
       "3  cv-library.co.uk  \n",
       "4  cv-library.co.uk  "
      ]
     },
     "execution_count": 9,
     "metadata": {},
     "output_type": "execute_result"
    }
   ],
   "source": [
    "First_Test = pd.read_csv('dataset\\Test_rev1.csv')\n",
    "First_Test.head()"
   ]
  },
  {
   "cell_type": "markdown",
   "metadata": {},
   "source": [
    "**Test dataset contains 122463 rows × 10 columns**\n",
    "\n",
    "It will be used to predict the **SalaryRaw** and **SalaryNormalised**"
   ]
  },
  {
   "cell_type": "code",
   "execution_count": 84,
   "metadata": {},
   "outputs": [
    {
     "data": {
      "text/html": [
       "<div>\n",
       "<style scoped>\n",
       "    .dataframe tbody tr th:only-of-type {\n",
       "        vertical-align: middle;\n",
       "    }\n",
       "\n",
       "    .dataframe tbody tr th {\n",
       "        vertical-align: top;\n",
       "    }\n",
       "\n",
       "    .dataframe thead th {\n",
       "        text-align: right;\n",
       "    }\n",
       "</style>\n",
       "<table border=\"1\" class=\"dataframe\">\n",
       "  <thead>\n",
       "    <tr style=\"text-align: right;\">\n",
       "      <th></th>\n",
       "      <th>FullLocation</th>\n",
       "    </tr>\n",
       "  </thead>\n",
       "  <tbody>\n",
       "    <tr>\n",
       "      <th>0</th>\n",
       "      <td>UK~London~East London~Mile End</td>\n",
       "    </tr>\n",
       "    <tr>\n",
       "      <th>1</th>\n",
       "      <td>UK~London~East London~Shadwell</td>\n",
       "    </tr>\n",
       "    <tr>\n",
       "      <th>2</th>\n",
       "      <td>UK~London~East London~Spitalfields</td>\n",
       "    </tr>\n",
       "    <tr>\n",
       "      <th>3</th>\n",
       "      <td>UK~London~East London~Stepney</td>\n",
       "    </tr>\n",
       "    <tr>\n",
       "      <th>4</th>\n",
       "      <td>UK~London~East London~Wapping</td>\n",
       "    </tr>\n",
       "  </tbody>\n",
       "</table>\n",
       "</div>"
      ],
      "text/plain": [
       "                         FullLocation\n",
       "0      UK~London~East London~Mile End\n",
       "1      UK~London~East London~Shadwell\n",
       "2  UK~London~East London~Spitalfields\n",
       "3       UK~London~East London~Stepney\n",
       "4       UK~London~East London~Wapping"
      ]
     },
     "execution_count": 84,
     "metadata": {},
     "output_type": "execute_result"
    }
   ],
   "source": [
    "Location_Tree = pd.read_csv('dataset\\Location_Tree.csv')\n",
    "Location_Tree.head()"
   ]
  },
  {
   "cell_type": "markdown",
   "metadata": {},
   "source": [
    "This is a supplemental data set that describes the hierarchical relationship between the different Normalised Locations shown in the job data.  It it is likely that there are meaningful relationships between the salaries of jobs in a similar geographical area, for example average salaries in London and the South East are higher than in the rest of the UK."
   ]
  },
  {
   "cell_type": "markdown",
   "metadata": {},
   "source": [
    "# Feature engineering"
   ]
  },
  {
   "cell_type": "code",
   "execution_count": 10,
   "metadata": {},
   "outputs": [
    {
     "name": "stdout",
     "output_type": "stream",
     "text": [
      "<class 'pandas.core.frame.DataFrame'>\n",
      "RangeIndex: 244768 entries, 0 to 244767\n",
      "Data columns (total 12 columns):\n",
      "Id                    244768 non-null int64\n",
      "Title                 244767 non-null object\n",
      "FullDescription       244768 non-null object\n",
      "LocationRaw           244768 non-null object\n",
      "LocationNormalized    244768 non-null object\n",
      "ContractType          65442 non-null object\n",
      "ContractTime          180863 non-null object\n",
      "Company               212338 non-null object\n",
      "Category              244768 non-null object\n",
      "SalaryRaw             244768 non-null object\n",
      "SalaryNormalized      244768 non-null int64\n",
      "SourceName            244767 non-null object\n",
      "dtypes: int64(2), object(10)\n",
      "memory usage: 22.4+ MB\n"
     ]
    }
   ],
   "source": [
    "# Train dataset\n",
    "First_Train.info()"
   ]
  },
  {
   "cell_type": "code",
   "execution_count": 11,
   "metadata": {},
   "outputs": [
    {
     "name": "stdout",
     "output_type": "stream",
     "text": [
      "<class 'pandas.core.frame.DataFrame'>\n",
      "RangeIndex: 122463 entries, 0 to 122462\n",
      "Data columns (total 10 columns):\n",
      "Id                    122463 non-null int64\n",
      "Title                 122463 non-null object\n",
      "FullDescription       122463 non-null object\n",
      "LocationRaw           122463 non-null object\n",
      "LocationNormalized    122463 non-null object\n",
      "ContractType          33013 non-null object\n",
      "ContractTime          90702 non-null object\n",
      "Company               106202 non-null object\n",
      "Category              122463 non-null object\n",
      "SourceName            122463 non-null object\n",
      "dtypes: int64(1), object(9)\n",
      "memory usage: 9.3+ MB\n"
     ]
    }
   ],
   "source": [
    "# Test dataset\n",
    "First_Test.info()"
   ]
  },
  {
   "cell_type": "markdown",
   "metadata": {},
   "source": [
    "It could find there are missing value in **ContractType**, **ContractTime** and **Company**"
   ]
  },
  {
   "cell_type": "markdown",
   "metadata": {},
   "source": [
    "# clustering by openrefine-2.8\n",
    "\n",
    "**combine train and test datasets**\n",
    "\n",
    "**cluster data in each cloumn**\n",
    "\n",
    "**fill missing value (not all)**\n",
    "\n",
    "![iamge](https://raw.githubusercontent.com/Trouble404/kaggle-Job-Salary-Prediction/master/readme_pic/cleaning_step1.PNG)"
   ]
  },
  {
   "cell_type": "code",
   "execution_count": 2,
   "metadata": {},
   "outputs": [
    {
     "name": "stdout",
     "output_type": "stream",
     "text": [
      "<class 'pandas.core.frame.DataFrame'>\n",
      "RangeIndex: 367231 entries, 0 to 367230\n",
      "Data columns (total 13 columns):\n",
      "File                  367231 non-null object\n",
      "Id                    367231 non-null int64\n",
      "Title                 367231 non-null object\n",
      "FullDescription       367231 non-null object\n",
      "LocationRaw           367231 non-null object\n",
      "LocationNormalized    367231 non-null object\n",
      "ContractType          367231 non-null int64\n",
      "ContractTime          367231 non-null int64\n",
      "Company               318540 non-null object\n",
      "Category              367231 non-null int64\n",
      "SourceName            367231 non-null object\n",
      "SalaryRaw             244768 non-null object\n",
      "SalaryNormalized      244768 non-null float64\n",
      "dtypes: float64(1), int64(4), object(8)\n",
      "memory usage: 36.4+ MB\n"
     ]
    }
   ],
   "source": [
    "Second_test = pd.read_csv('dataset/salay_first_dataset.csv')\n",
    "Second_test.info()"
   ]
  },
  {
   "cell_type": "markdown",
   "metadata": {},
   "source": [
    "**Title**"
   ]
  },
  {
   "cell_type": "code",
   "execution_count": 7,
   "metadata": {},
   "outputs": [
    {
     "name": "stdout",
     "output_type": "stream",
     "text": [
      "Business Development Manager                                           1403\n",
      "Project Manager                                                        1134\n",
      "Management Accountant                                                   998\n",
      "Sales Executive                                                         921\n",
      "Cleaner                                                                 852\n",
      "Account Manager                                                         830\n",
      "Mechanical Design Engineer                                              728\n",
      "Finance Manager                                                         694\n",
      "Administrator                                                           690\n",
      "Recruitment Consultant                                                  670\n",
      "Credit Controller                                                       663\n",
      "Accounts Assistant                                                      655\n",
      "Assistant Manager                                                       644\n",
      "Financial Controller                                                    606\n",
      "Business Analyst                                                        548\n",
      "Sales Manager                                                           530\n",
      "Store Manager                                                           501\n",
      "Quality Engineer                                                        500\n",
      "Support Worker                                                          472\n",
      "Marketing Manager                                                       467\n",
      "Project Engineer                                                        452\n",
      "Chef de Partie                                                          433\n",
      "Quantity Surveyor                                                       432\n",
      "Design Engineer                                                         417\n",
      "Financial Accountant                                                    411\n",
      "Assistant Accountant                                                    398\n",
      "Business Development Executive                                          382\n",
      "Java Developer                                                          368\n",
      "Marketing Executive                                                     367\n",
      "Purchase Ledger Clerk                                                   364\n",
      "                                                                       ... \n",
      "Senior Technical Support Engineer                                         1\n",
      "Global Account Coordinator                                                1\n",
      "International Pricing Actuary  Life                                       1\n",
      "Partnerships Marketing Executive (Digital)                                1\n",
      "Graduate Web Developer  Comp Sci, Web Design HTML, Java Top 20 Fast       1\n",
      "IT Sales ExecutiveFluent;Portuguese & SpanishManchester****k              1\n",
      "New Business Field Sales Representative  Mobiles                          1\n",
      "Baby Sitter needed for **** x **** month old boy on New Years Eve         1\n",
      "Asbestos Analyst  Surveyor Slough                                         1\n",
      "Hardware Product Manager  EMV, PCI, PTS                                   1\n",
      "Parking Officer with Civica CE experience                                 1\n",
      "Senior Production Authorising Coordinator  UK                             1\n",
      "Business Travel Consultant  Glasgow                                       1\n",
      "Senior NET Developer/Manchester City Centre/****                          1\n",
      "CORE NETWORK Support Engineer  TELECOMS                                   1\n",
      "Sugar Trader                                                              1\n",
      "Team manager Family Support                                               1\n",
      "Interpretation Manager (Maternity Cover)                                  1\n",
      "CMS Developer HTML, CSS Javascript                                        1\n",
      "UK GROUP RESERVATION                                                      1\n",
      "SAP BPC senior consultants  Permanent                                     1\n",
      "General Warehouse / Flat Pack Assembler                                   1\n",
      "Business Development Manager  Facilities Management/M&E                   1\n",
      "ACA Qualified? Internal Audit with a Tier **** bank                       1\n",
      "Mechanical Engineers 鈥� Servos and Actuators 鈥� Various levels            1\n",
      "Business Proposition Lead                                                 1\n",
      "Professional Excellence Programme  Project Management UK                  1\n",
      "Category Manager  NEW                                                     1\n",
      "Order Processor required  fantastic opportunity in Leatherhead            1\n",
      "Junior Merchandiser  Online Fashion Retailer                              1\n",
      "Name: Title, Length: 166175, dtype: int64\n"
     ]
    }
   ],
   "source": [
    "title_counts = Second_test['Title'].value_counts()\n",
    "print (title_counts)"
   ]
  },
  {
   "cell_type": "code",
   "execution_count": 28,
   "metadata": {},
   "outputs": [
    {
     "name": "stdout",
     "output_type": "stream",
     "text": [
      "2837\n"
     ]
    }
   ],
   "source": [
    "title_name = []\n",
    "for n in range(0,len(title_counts)):\n",
    "    if title_counts[n] > 9:\n",
    "        title_name.append(title_counts.index[n])\n",
    "\n",
    "print(len(title_name))"
   ]
  },
  {
   "cell_type": "code",
   "execution_count": 29,
   "metadata": {},
   "outputs": [],
   "source": [
    "title = Second_test['Title']\n",
    "#title_name = title_counts.index\n",
    "title_vec = np.arange(0,len(title_name),1) + 1"
   ]
  },
  {
   "cell_type": "code",
   "execution_count": 48,
   "metadata": {},
   "outputs": [
    {
     "name": "stderr",
     "output_type": "stream",
     "text": [
      "100%|████████████████████████████████████████████████████████████████████████| 367231/367231 [02:04<00:00, 2942.56it/s]\n"
     ]
    }
   ],
   "source": [
    "title_1 = []\n",
    "for title_each in tqdm(title):\n",
    "    test1 = -1\n",
    "    for n in range(0,len(title_name)):\n",
    "        if title_each == title_name[n]:\n",
    "            test1 = n\n",
    "    if test1 == -1:\n",
    "        title_1.append(title_each)\n",
    "    else:\n",
    "        title_1.append(title_vec[test1])    "
   ]
  },
  {
   "cell_type": "code",
   "execution_count": 37,
   "metadata": {},
   "outputs": [],
   "source": [
    "def is_number(s):\n",
    "    try:\n",
    "        float(s)\n",
    "        return True\n",
    "    except ValueError:\n",
    "        pass\n",
    " \n",
    "    try:\n",
    "        import unicodedata\n",
    "        unicodedata.numeric(s)\n",
    "        return True\n",
    "    except (TypeError, ValueError):\n",
    "        pass\n",
    " \n",
    "    return False"
   ]
  },
  {
   "cell_type": "code",
   "execution_count": 49,
   "metadata": {},
   "outputs": [],
   "source": [
    "for n in range(0,len(title_1)):\n",
    "    if is_number(title_1[n]):\n",
    "        title_1[n] = title_1[n]\n",
    "    else:\n",
    "        title_1[n] = 0"
   ]
  },
  {
   "cell_type": "code",
   "execution_count": 50,
   "metadata": {},
   "outputs": [],
   "source": [
    "check = pd.DataFrame({'title': title_1})\n",
    "check.to_csv('title_1.csv')"
   ]
  },
  {
   "cell_type": "markdown",
   "metadata": {},
   "source": [
    "** Location**"
   ]
  },
  {
   "cell_type": "code",
   "execution_count": 89,
   "metadata": {},
   "outputs": [],
   "source": [
    "location_tree = Location_Tree['FullLocation']"
   ]
  },
  {
   "cell_type": "code",
   "execution_count": 8,
   "metadata": {},
   "outputs": [],
   "source": [
    "location_1 = Second_test['LocationRaw']\n",
    "location_2 = Second_test['LocationNormalized']"
   ]
  },
  {
   "cell_type": "code",
   "execution_count": 57,
   "metadata": {},
   "outputs": [
    {
     "name": "stderr",
     "output_type": "stream",
     "text": [
      "100%|███████████████████████████████████████████████████████████████████████| 367231/367231 [00:10<00:00, 35579.24it/s]\n"
     ]
    }
   ],
   "source": [
    "# obtain max lenght string location\n",
    "location_all = []\n",
    "for n in tqdm(range(0,len(location_1))):\n",
    "    location_split1 = location_1[n].split(',')\n",
    "    \n",
    "    for j in range(0,len(location_split)):\n",
    "        location_split2 = location_split1[j].split('/')\n",
    "        location_split3 = location_split2[j].split('/')\n",
    "        location_split4 = location_split3[j].split('-')\n",
    "        \n",
    "    location_split4.insert(0,location_2[n])\n",
    "    max_location = max(location_split4, key=len)\n",
    "    location_all.append(max_location)"
   ]
  },
  {
   "cell_type": "code",
   "execution_count": 90,
   "metadata": {},
   "outputs": [
    {
     "name": "stderr",
     "output_type": "stream",
     "text": [
      "100%|███████████████████████████████████████████████████████████████████████| 367231/367231 [39:33:46<00:00,  2.58it/s]\n"
     ]
    }
   ],
   "source": [
    "location_3 = []\n",
    "for location_each in tqdm(location_all):\n",
    "    test1 = -1\n",
    "    for n in range(0,len(location_tree)):\n",
    "        if location_each in location_tree[n]:\n",
    "            test1 = n\n",
    "    if test1 == -1:\n",
    "        location_3.append(location_each)\n",
    "    else:\n",
    "        location_3.append(location_tree[test1])  "
   ]
  },
  {
   "cell_type": "code",
   "execution_count": 91,
   "metadata": {},
   "outputs": [],
   "source": [
    "check1 = pd.DataFrame({'location': location_3})\n",
    "check1.to_csv('location_1.csv')"
   ]
  },
  {
   "cell_type": "code",
   "execution_count": 93,
   "metadata": {},
   "outputs": [
    {
     "data": {
      "text/html": [
       "<div>\n",
       "<style scoped>\n",
       "    .dataframe tbody tr th:only-of-type {\n",
       "        vertical-align: middle;\n",
       "    }\n",
       "\n",
       "    .dataframe tbody tr th {\n",
       "        vertical-align: top;\n",
       "    }\n",
       "\n",
       "    .dataframe thead th {\n",
       "        text-align: right;\n",
       "    }\n",
       "</style>\n",
       "<table border=\"1\" class=\"dataframe\">\n",
       "  <thead>\n",
       "    <tr style=\"text-align: right;\">\n",
       "      <th></th>\n",
       "      <th>location</th>\n",
       "    </tr>\n",
       "  </thead>\n",
       "  <tbody>\n",
       "    <tr>\n",
       "      <th>0</th>\n",
       "      <td>UK~North East England~Tyne &amp; Wear~Newcastle Up...</td>\n",
       "    </tr>\n",
       "    <tr>\n",
       "      <th>1</th>\n",
       "      <td>UK~North East England~Tyne &amp; Wear~Newcastle Up...</td>\n",
       "    </tr>\n",
       "    <tr>\n",
       "      <th>2</th>\n",
       "      <td>UK~South East England~Surrey~Richmond Upon Thames</td>\n",
       "    </tr>\n",
       "    <tr>\n",
       "      <th>3</th>\n",
       "      <td>UK~South West England~Somerset~Bridgwater~Stoc...</td>\n",
       "    </tr>\n",
       "    <tr>\n",
       "      <th>4</th>\n",
       "      <td>UK~North East England~Northumberland~Chathill~...</td>\n",
       "    </tr>\n",
       "  </tbody>\n",
       "</table>\n",
       "</div>"
      ],
      "text/plain": [
       "                                            location\n",
       "0  UK~North East England~Tyne & Wear~Newcastle Up...\n",
       "1  UK~North East England~Tyne & Wear~Newcastle Up...\n",
       "2  UK~South East England~Surrey~Richmond Upon Thames\n",
       "3  UK~South West England~Somerset~Bridgwater~Stoc...\n",
       "4  UK~North East England~Northumberland~Chathill~..."
      ]
     },
     "execution_count": 93,
     "metadata": {},
     "output_type": "execute_result"
    }
   ],
   "source": [
    "check1.head()"
   ]
  },
  {
   "cell_type": "code",
   "execution_count": 95,
   "metadata": {},
   "outputs": [
    {
     "data": {
      "text/plain": [
       "248257"
      ]
     },
     "execution_count": 95,
     "metadata": {},
     "output_type": "execute_result"
    }
   ],
   "source": [
    "count = 0\n",
    "for locationTree in location_3:\n",
    "    if '~' in locationTree:\n",
    "        count = count + 1\n",
    "count\n",
    "        "
   ]
  },
  {
   "cell_type": "code",
   "execution_count": 12,
   "metadata": {},
   "outputs": [],
   "source": [
    "location_3 = pd.read_csv('location_1.csv')['location']"
   ]
  },
  {
   "cell_type": "markdown",
   "metadata": {},
   "source": [
    "**1/3 location can't match full location in LocationTree**"
   ]
  },
  {
   "cell_type": "code",
   "execution_count": 13,
   "metadata": {},
   "outputs": [
    {
     "name": "stderr",
     "output_type": "stream",
     "text": [
      "100%|██████████████████████████████████████████████████████████████████████| 367231/367231 [00:00<00:00, 381261.38it/s]\n"
     ]
    }
   ],
   "source": [
    "# obtain max lenght string location\n",
    "location_10 = []\n",
    "location_11 = []\n",
    "location_12 = []\n",
    "location_13 = []\n",
    "location_14 = []\n",
    "location_15 = []\n",
    "for each in tqdm(location_3):\n",
    "    location_each = each.split('~')\n",
    "    \n",
    "\n",
    "    if len(location_each) == 6:\n",
    "        location_10.append(location_each[0])\n",
    "        location_11.append(location_each[1])\n",
    "        location_12.append(location_each[2])\n",
    "        location_13.append(location_each[3])\n",
    "        location_14.append(location_each[4])\n",
    "        location_15.append(location_each[5])\n",
    "\n",
    "    if len(location_each) == 5:\n",
    "        if location_each[0] == 'UK':\n",
    "            location_10.append(location_each[0])\n",
    "        else:\n",
    "            location_10.append('')\n",
    "            \n",
    "        location_11.append('')\n",
    "        location_12.append(location_each[1])\n",
    "        location_13.append(location_each[2])\n",
    "        location_14.append(location_each[3])\n",
    "        location_15.append(location_each[4])\n",
    "\n",
    "    if len(location_each) == 4:\n",
    "        if location_each[0] == 'UK':\n",
    "            location_10.append(location_each[0])\n",
    "        else:\n",
    "            location_10.append('')\n",
    "            \n",
    "        location_11.append('')\n",
    "        location_12.append('')\n",
    "        location_13.append(location_each[1])\n",
    "        location_14.append(location_each[2])\n",
    "        location_15.append(location_each[3])\n",
    "\n",
    "    if len(location_each) == 3:\n",
    "        if location_each[0] == 'UK':\n",
    "            location_10.append(location_each[0])\n",
    "        else:\n",
    "            location_10.append('')\n",
    "            \n",
    "        location_11.append('')\n",
    "        location_12.append('')\n",
    "        location_13.append('')\n",
    "        location_14.append(location_each[1])\n",
    "        location_15.append(location_each[2])\n",
    "            \n",
    "    if len(location_each) == 2:\n",
    "        if location_each[0] == 'UK':\n",
    "            location_10.append(location_each[0])\n",
    "        else:\n",
    "            location_10.append('')\n",
    "            \n",
    "        location_11.append('')\n",
    "        location_12.append('')\n",
    "        location_13.append('')\n",
    "        location_14.append('')\n",
    "        location_15.append(location_each[1])          \n",
    "\n",
    "    if len(location_each) == 1:\n",
    "        if location_each[0] == 'UK':\n",
    "            location_10.append(location_each[0])\n",
    "            location_15.append('')\n",
    "        else:\n",
    "            location_10.append('')\n",
    "            location_15.append(location_each[0])\n",
    "            \n",
    "        location_11.append('')\n",
    "        location_12.append('')\n",
    "        location_13.append('')\n",
    "        location_14.append('')\n",
    "                                   "
   ]
  },
  {
   "cell_type": "code",
   "execution_count": null,
   "metadata": {},
   "outputs": [],
   "source": [
    "# when transorm on-hot vector, there are too many types of company, can't transfom, therefore, reduce the types of companys"
   ]
  },
  {
   "cell_type": "code",
   "execution_count": 16,
   "metadata": {},
   "outputs": [],
   "source": [
    "fixed1 = pd.DataFrame({'location': location_15})"
   ]
  },
  {
   "cell_type": "code",
   "execution_count": 17,
   "metadata": {},
   "outputs": [],
   "source": [
    "location_6_fixed = fixed1['location']"
   ]
  },
  {
   "cell_type": "code",
   "execution_count": 18,
   "metadata": {},
   "outputs": [
    {
     "data": {
      "text/plain": [
       "City of London                                     34832\n",
       "South East London                                  16177\n",
       "Newcastle-under-Lyme                               12807\n",
       "Greater Manchester                                  5070\n",
       "City London South East                              4266\n",
       "Portway                                             4156\n",
       "West End                                            3815\n",
       "City of London                                      3451\n",
       "Greater London                                      3409\n",
       "Stockland Bristol                                   3306\n",
       "Richmond Upon Thames                                2909\n",
       "Methley                                             2895\n",
       "Manchester Lancashire North West                    2805\n",
       "Cambridgeshire                                      2803\n",
       "Kingston                                            2575\n",
       "Derriaghy                                           2508\n",
       "Oxfordshire                                         2354\n",
       "Nottinghamshire                                     2220\n",
       "Aberdeenshire                                       2177\n",
       "Birmingham West Midlands (County) West Midlands     2128\n",
       "Leeds West Yorkshire Yorkshire                      2003\n",
       "Newcastle Airport                                   1919\n",
       "Hampshire                                           1901\n",
       "Leicestershire                                      1887\n",
       "W Sussex                                            1848\n",
       "Millhouse Green                                     1811\n",
       "Hertfordshire                                       1766\n",
       "Bristol Avon South West                             1739\n",
       "Glasgow                                             1729\n",
       "North West London                                   1691\n",
       "                                                   ...  \n",
       "London or Birmingham                                   1\n",
       "Houndslow                                              1\n",
       "PO3 5PU Portsmouth                                     1\n",
       "Whippingham                                            1\n",
       "Dartford Kent England                                  1\n",
       "Salzburg                                               1\n",
       "West Cambridgeshire                                    1\n",
       "Rock Ferry                                             1\n",
       "Kent Essex                                             1\n",
       "Aberdeen(Kintore)                                      1\n",
       "England (London                                        1\n",
       "UK Prestatyn                                           1\n",
       "Scarborough North Yorkshire England                    1\n",
       "wilmslow                                               1\n",
       "Feasterville Trevose                                   1\n",
       "Radley Green                                           1\n",
       "Greenwich                                              1\n",
       "Bicester Oxfordshire England                           1\n",
       "L B Havering                                           1\n",
       "stevenage hertfordshire Stevenage                      1\n",
       "Bedford Square                                         1\n",
       "c.60k plus car & bonus                                 1\n",
       "UK Didcot                                              1\n",
       "London (Westend)                                       1\n",
       "South Wales Bristol                                    1\n",
       "CLOSE TO WOKINGHAM BRACKNELL                           1\n",
       "Merseyside Knowsley L34 0                              1\n",
       "Cotham                                                 1\n",
       "Waterford                                              1\n",
       "Rosyth Shipyard                                        1\n",
       "Name: location, Length: 8843, dtype: int64"
      ]
     },
     "execution_count": 18,
     "metadata": {},
     "output_type": "execute_result"
    }
   ],
   "source": [
    "location_6_fixed_counts = fixed1['location'].value_counts()\n",
    "location_6_fixed_counts"
   ]
  },
  {
   "cell_type": "code",
   "execution_count": 21,
   "metadata": {},
   "outputs": [
    {
     "name": "stdout",
     "output_type": "stream",
     "text": [
      "2087\n"
     ]
    }
   ],
   "source": [
    "location_name = []\n",
    "for n in range(0,len(location_6_fixed_counts)):\n",
    "    if location_6_fixed_counts[n] > 9:\n",
    "        location_name.append(location_6_fixed_counts.index[n])\n",
    "\n",
    "print(len(location_name))"
   ]
  },
  {
   "cell_type": "code",
   "execution_count": 22,
   "metadata": {},
   "outputs": [],
   "source": [
    "#company_name = company_counts.index\n",
    "location_vec = np.arange(0,len(location_name),1) + 1"
   ]
  },
  {
   "cell_type": "code",
   "execution_count": 25,
   "metadata": {},
   "outputs": [
    {
     "name": "stderr",
     "output_type": "stream",
     "text": [
      "100%|███████████████████████████████████████████████████████████████████████| 367231/367231 [00:13<00:00, 27473.72it/s]\n"
     ]
    }
   ],
   "source": [
    "location_1 = []\n",
    "for location_each in tqdm(location_6_fixed):\n",
    "    test1 = -1\n",
    "    for n in range(0,len(location_name)):\n",
    "        if location_each == location_name[n]:\n",
    "            test1 = n\n",
    "            break\n",
    "    if test1 == -1:\n",
    "        location_1.append(0)\n",
    "    else:\n",
    "        location_1.append(location_vec[test1])    "
   ]
  },
  {
   "cell_type": "code",
   "execution_count": 27,
   "metadata": {},
   "outputs": [],
   "source": [
    "fiexed_location = pd.DataFrame({'location_6': location_1})\n",
    "fiexed_location = fiexed_location.fillna(0)\n",
    "fiexed_location.to_csv('location_1_fixed.csv')"
   ]
  },
  {
   "cell_type": "code",
   "execution_count": 165,
   "metadata": {},
   "outputs": [
    {
     "data": {
      "text/html": [
       "<div>\n",
       "<style scoped>\n",
       "    .dataframe tbody tr th:only-of-type {\n",
       "        vertical-align: middle;\n",
       "    }\n",
       "\n",
       "    .dataframe tbody tr th {\n",
       "        vertical-align: top;\n",
       "    }\n",
       "\n",
       "    .dataframe thead th {\n",
       "        text-align: right;\n",
       "    }\n",
       "</style>\n",
       "<table border=\"1\" class=\"dataframe\">\n",
       "  <thead>\n",
       "    <tr style=\"text-align: right;\">\n",
       "      <th></th>\n",
       "      <th>location_1</th>\n",
       "      <th>location_2</th>\n",
       "      <th>location_3</th>\n",
       "      <th>location_4</th>\n",
       "      <th>location_5</th>\n",
       "      <th>location_6</th>\n",
       "    </tr>\n",
       "  </thead>\n",
       "  <tbody>\n",
       "    <tr>\n",
       "      <th>0</th>\n",
       "      <td>UK</td>\n",
       "      <td>North East England</td>\n",
       "      <td>Tyne &amp; Wear</td>\n",
       "      <td>Newcastle Upon Tyne</td>\n",
       "      <td>Woolsington</td>\n",
       "      <td>Newcastle Airport</td>\n",
       "    </tr>\n",
       "    <tr>\n",
       "      <th>1</th>\n",
       "      <td>UK</td>\n",
       "      <td>North East England</td>\n",
       "      <td>Tyne &amp; Wear</td>\n",
       "      <td>Newcastle Upon Tyne</td>\n",
       "      <td>Woolsington</td>\n",
       "      <td>Newcastle Airport</td>\n",
       "    </tr>\n",
       "    <tr>\n",
       "      <th>2</th>\n",
       "      <td>UK</td>\n",
       "      <td></td>\n",
       "      <td></td>\n",
       "      <td>South East England</td>\n",
       "      <td>Surrey</td>\n",
       "      <td>Richmond Upon Thames</td>\n",
       "    </tr>\n",
       "    <tr>\n",
       "      <th>3</th>\n",
       "      <td>UK</td>\n",
       "      <td></td>\n",
       "      <td>South West England</td>\n",
       "      <td>Somerset</td>\n",
       "      <td>Bridgwater</td>\n",
       "      <td>Stockland Bristol</td>\n",
       "    </tr>\n",
       "    <tr>\n",
       "      <th>4</th>\n",
       "      <td>UK</td>\n",
       "      <td></td>\n",
       "      <td>North East England</td>\n",
       "      <td>Northumberland</td>\n",
       "      <td>Chathill</td>\n",
       "      <td>West Fleetham</td>\n",
       "    </tr>\n",
       "  </tbody>\n",
       "</table>\n",
       "</div>"
      ],
      "text/plain": [
       "  location_1          location_2          location_3           location_4  \\\n",
       "0         UK  North East England         Tyne & Wear  Newcastle Upon Tyne   \n",
       "1         UK  North East England         Tyne & Wear  Newcastle Upon Tyne   \n",
       "2         UK                                           South East England   \n",
       "3         UK                      South West England             Somerset   \n",
       "4         UK                      North East England       Northumberland   \n",
       "\n",
       "    location_5            location_6  \n",
       "0  Woolsington     Newcastle Airport  \n",
       "1  Woolsington     Newcastle Airport  \n",
       "2       Surrey  Richmond Upon Thames  \n",
       "3   Bridgwater     Stockland Bristol  \n",
       "4     Chathill         West Fleetham  "
      ]
     },
     "execution_count": 165,
     "metadata": {},
     "output_type": "execute_result"
    }
   ],
   "source": [
    "check2 = pd.DataFrame({'location_1': location_10,\n",
    "                      'location_2': location_11,\n",
    "                      'location_3': location_12,\n",
    "                      'location_4': location_13,\n",
    "                      'location_5': location_14,\n",
    "                      'location_6': location_15})\n",
    "check2.head()"
   ]
  },
  {
   "cell_type": "code",
   "execution_count": 173,
   "metadata": {},
   "outputs": [],
   "source": [
    "check2.to_csv('location.csv')"
   ]
  },
  {
   "cell_type": "code",
   "execution_count": 172,
   "metadata": {},
   "outputs": [],
   "source": [
    "cla_1 = {label:idx for idx,label in enumerate(np.unique(check2['location_1']))}\n",
    "cla_2 = {label:idx for idx,label in enumerate(np.unique(check2['location_2']))}\n",
    "cla_3 = {label:idx for idx,label in enumerate(np.unique(check2['location_3']))}\n",
    "cla_4 = {label:idx for idx,label in enumerate(np.unique(check2['location_4']))}\n",
    "cla_5 = {label:idx for idx,label in enumerate(np.unique(check2['location_5']))}\n",
    "cla_6 = {label:idx for idx,label in enumerate(np.unique(check2['location_6']))}"
   ]
  },
  {
   "cell_type": "code",
   "execution_count": 174,
   "metadata": {},
   "outputs": [
    {
     "data": {
      "text/html": [
       "<div>\n",
       "<style scoped>\n",
       "    .dataframe tbody tr th:only-of-type {\n",
       "        vertical-align: middle;\n",
       "    }\n",
       "\n",
       "    .dataframe tbody tr th {\n",
       "        vertical-align: top;\n",
       "    }\n",
       "\n",
       "    .dataframe thead th {\n",
       "        text-align: right;\n",
       "    }\n",
       "</style>\n",
       "<table border=\"1\" class=\"dataframe\">\n",
       "  <thead>\n",
       "    <tr style=\"text-align: right;\">\n",
       "      <th></th>\n",
       "      <th>location_1</th>\n",
       "      <th>location_2</th>\n",
       "      <th>location_3</th>\n",
       "      <th>location_4</th>\n",
       "      <th>location_5</th>\n",
       "      <th>location_6</th>\n",
       "    </tr>\n",
       "  </thead>\n",
       "  <tbody>\n",
       "    <tr>\n",
       "      <th>0</th>\n",
       "      <td>1</td>\n",
       "      <td>3</td>\n",
       "      <td>63</td>\n",
       "      <td>135</td>\n",
       "      <td>1219</td>\n",
       "      <td>5130</td>\n",
       "    </tr>\n",
       "    <tr>\n",
       "      <th>1</th>\n",
       "      <td>1</td>\n",
       "      <td>3</td>\n",
       "      <td>63</td>\n",
       "      <td>135</td>\n",
       "      <td>1219</td>\n",
       "      <td>5130</td>\n",
       "    </tr>\n",
       "    <tr>\n",
       "      <th>2</th>\n",
       "      <td>1</td>\n",
       "      <td>0</td>\n",
       "      <td>0</td>\n",
       "      <td>185</td>\n",
       "      <td>1066</td>\n",
       "      <td>5976</td>\n",
       "    </tr>\n",
       "    <tr>\n",
       "      <th>3</th>\n",
       "      <td>1</td>\n",
       "      <td>0</td>\n",
       "      <td>54</td>\n",
       "      <td>183</td>\n",
       "      <td>177</td>\n",
       "      <td>6793</td>\n",
       "    </tr>\n",
       "    <tr>\n",
       "      <th>4</th>\n",
       "      <td>1</td>\n",
       "      <td>0</td>\n",
       "      <td>38</td>\n",
       "      <td>152</td>\n",
       "      <td>250</td>\n",
       "      <td>8128</td>\n",
       "    </tr>\n",
       "  </tbody>\n",
       "</table>\n",
       "</div>"
      ],
      "text/plain": [
       "   location_1  location_2  location_3  location_4  location_5  location_6\n",
       "0           1           3          63         135        1219        5130\n",
       "1           1           3          63         135        1219        5130\n",
       "2           1           0           0         185        1066        5976\n",
       "3           1           0          54         183         177        6793\n",
       "4           1           0          38         152         250        8128"
      ]
     },
     "execution_count": 174,
     "metadata": {},
     "output_type": "execute_result"
    }
   ],
   "source": [
    "check2['location_1'] = check2['location_1'].map(cla_1)\n",
    "check2['location_2'] = check2['location_2'].map(cla_2)\n",
    "check2['location_3'] = check2['location_3'].map(cla_3)\n",
    "check2['location_4'] = check2['location_4'].map(cla_4)\n",
    "check2['location_5'] = check2['location_5'].map(cla_5)\n",
    "check2['location_6'] = check2['location_6'].map(cla_6)\n",
    "check2.head()"
   ]
  },
  {
   "cell_type": "code",
   "execution_count": 175,
   "metadata": {},
   "outputs": [],
   "source": [
    "check2.to_csv('location_vec.csv')"
   ]
  },
  {
   "cell_type": "code",
   "execution_count": null,
   "metadata": {},
   "outputs": [],
   "source": []
  },
  {
   "cell_type": "markdown",
   "metadata": {},
   "source": [
    "**Company**"
   ]
  },
  {
   "cell_type": "code",
   "execution_count": 3,
   "metadata": {},
   "outputs": [],
   "source": [
    "company = Second_test['Company']"
   ]
  },
  {
   "cell_type": "code",
   "execution_count": 4,
   "metadata": {},
   "outputs": [],
   "source": [
    "# when transorm on-hot vector, there are too many types of company, can't transfom, therefore, reduce the types of companys"
   ]
  },
  {
   "cell_type": "code",
   "execution_count": 5,
   "metadata": {},
   "outputs": [
    {
     "data": {
      "text/plain": [
       "UKStaffsearch                           7506\n",
       "CVbrowser                               4456\n",
       "London4Jobs                             3539\n",
       "Hays                                    2883\n",
       "JAM Recruitment Ltd                     2310\n",
       "Matchtech Group plc.                    1681\n",
       "Office Angels                           1440\n",
       "Jobsite Jobs                            1385\n",
       "ARRAY                                   1319\n",
       "JOBG8                                   1296\n",
       "Perfect Placement                       1273\n",
       "Penguin Recruitment                     1140\n",
       "Randstad                                1114\n",
       "Adecco                                  1037\n",
       "Michael Page Finance                     977\n",
       "Interaction Recruitment                  938\n",
       "Adecco Group                             870\n",
       "COREcruitment International              865\n",
       "BMS Sales Specialists LLP                845\n",
       "Support Services Group                   804\n",
       "Page Personnel Finance                   771\n",
       "Michael Page Sales                       742\n",
       "Capita Resourcing                        740\n",
       "Matchtech                                710\n",
       "Rise Technical Recruitment Ltd           691\n",
       "Edustaff                                 675\n",
       "Experis IT                               664\n",
       "Huxley Associates                        656\n",
       "ATA Recruitment                          637\n",
       "Brookstreet UK                           630\n",
       "                                        ... \n",
       "York Street Retail                         1\n",
       "TWO 3 MEDIA                                1\n",
       "Kids 1st Childrens Nurseries               1\n",
       "Recruit4                                   1\n",
       "CULLODEN ACADEMY                           1\n",
       "Kylesku Hotel                              1\n",
       "St Barnabas Hospice                        1\n",
       "Great Fosters                              1\n",
       "Radisson Blu   East Midlands Airport       1\n",
       "Exclusive Recruitment                      1\n",
       "99 Delta Ltd                               1\n",
       "Designer Contracts                         1\n",
       "ALD Hairdressing Training Academy          1\n",
       "ANDOVER PRIMARY SCHOOL                     1\n",
       "Domino Commerical Interiors                1\n",
       "Jayde Stewart Associates                   1\n",
       "Cubed Resourcing                           1\n",
       "Marston s Inns Taverns                     1\n",
       "Fit out UK                                 1\n",
       "BARRHEAD HIGH SCHOOL                       1\n",
       "RADA                                       1\n",
       "Harvey John Limited                        1\n",
       "Nazareth House                             1\n",
       "Silverlink Technologies                    1\n",
       "AA                                         1\n",
       "Chefline UK                                1\n",
       "ST WILLIAMS PRIMARY SCHOOL                 1\n",
       "XpressFish Ltd                             1\n",
       "Walsham Grange                             1\n",
       "Real Solutions                             1\n",
       "Name: Company, Length: 23388, dtype: int64"
      ]
     },
     "execution_count": 5,
     "metadata": {},
     "output_type": "execute_result"
    }
   ],
   "source": [
    "company_counts = Second_test['Company'].value_counts()\n",
    "company_counts"
   ]
  },
  {
   "cell_type": "code",
   "execution_count": 7,
   "metadata": {},
   "outputs": [
    {
     "name": "stdout",
     "output_type": "stream",
     "text": [
      "3037\n"
     ]
    }
   ],
   "source": [
    "company_name = []\n",
    "for n in range(0,len(company_counts)):\n",
    "    if company_counts[n] > 19:\n",
    "        company_name.append(company_counts.index[n])\n",
    "\n",
    "print(len(company_name))"
   ]
  },
  {
   "cell_type": "code",
   "execution_count": 8,
   "metadata": {},
   "outputs": [],
   "source": [
    "#company_name = company_counts.index\n",
    "company_vec = np.arange(0,len(company_name),1) + 1"
   ]
  },
  {
   "cell_type": "code",
   "execution_count": 28,
   "metadata": {},
   "outputs": [
    {
     "name": "stderr",
     "output_type": "stream",
     "text": [
      "100%|████████████████████████████████████████████████████████████████████████| 367231/367231 [01:04<00:00, 5704.87it/s]\n"
     ]
    }
   ],
   "source": [
    "company_1 = []\n",
    "for company_each in tqdm(company):\n",
    "    test1 = -1\n",
    "    for n in range(0,len(company_name)):\n",
    "        if company_each == company_name[n]:\n",
    "            test1 = n\n",
    "            break\n",
    "    if test1 == -1:\n",
    "        company_1.append(0)\n",
    "    else:\n",
    "        company_1.append(company_vec[test1])    "
   ]
  },
  {
   "cell_type": "code",
   "execution_count": 29,
   "metadata": {},
   "outputs": [],
   "source": [
    "check3 = pd.DataFrame({'company': company_1})\n",
    "check3 = check3.fillna(0)\n",
    "check3.to_csv('company_1_fixed.csv')"
   ]
  },
  {
   "cell_type": "code",
   "execution_count": 11,
   "metadata": {},
   "outputs": [
    {
     "data": {
      "text/html": [
       "<div>\n",
       "<style scoped>\n",
       "    .dataframe tbody tr th:only-of-type {\n",
       "        vertical-align: middle;\n",
       "    }\n",
       "\n",
       "    .dataframe tbody tr th {\n",
       "        vertical-align: top;\n",
       "    }\n",
       "\n",
       "    .dataframe thead th {\n",
       "        text-align: right;\n",
       "    }\n",
       "</style>\n",
       "<table border=\"1\" class=\"dataframe\">\n",
       "  <thead>\n",
       "    <tr style=\"text-align: right;\">\n",
       "      <th></th>\n",
       "      <th>company</th>\n",
       "    </tr>\n",
       "  </thead>\n",
       "  <tbody>\n",
       "    <tr>\n",
       "      <th>0</th>\n",
       "      <td>1256</td>\n",
       "    </tr>\n",
       "    <tr>\n",
       "      <th>1</th>\n",
       "      <td>1256</td>\n",
       "    </tr>\n",
       "    <tr>\n",
       "      <th>2</th>\n",
       "      <td>912</td>\n",
       "    </tr>\n",
       "    <tr>\n",
       "      <th>3</th>\n",
       "      <td>912</td>\n",
       "    </tr>\n",
       "    <tr>\n",
       "      <th>4</th>\n",
       "      <td>912</td>\n",
       "    </tr>\n",
       "  </tbody>\n",
       "</table>\n",
       "</div>"
      ],
      "text/plain": [
       "  company\n",
       "0    1256\n",
       "1    1256\n",
       "2     912\n",
       "3     912\n",
       "4     912"
      ]
     },
     "execution_count": 11,
     "metadata": {},
     "output_type": "execute_result"
    }
   ],
   "source": [
    "check3.head()"
   ]
  },
  {
   "cell_type": "markdown",
   "metadata": {},
   "source": [
    "**SourceName**"
   ]
  },
  {
   "cell_type": "code",
   "execution_count": 219,
   "metadata": {},
   "outputs": [],
   "source": [
    "sourcename = Second_test['SourceName']"
   ]
  },
  {
   "cell_type": "code",
   "execution_count": 220,
   "metadata": {},
   "outputs": [],
   "source": [
    "source_cla_1 = {label:idx for idx,label in enumerate(np.unique(sourcename))}"
   ]
  },
  {
   "cell_type": "code",
   "execution_count": 224,
   "metadata": {},
   "outputs": [],
   "source": [
    "sourcename_vec = sourcename.map(source_cla_1)"
   ]
  },
  {
   "cell_type": "code",
   "execution_count": 226,
   "metadata": {},
   "outputs": [],
   "source": [
    "check4 = pd.DataFrame({'sourcename': sourcename_vec})\n",
    "check4.to_csv('sourcename_1.csv')"
   ]
  },
  {
   "cell_type": "code",
   "execution_count": 228,
   "metadata": {},
   "outputs": [
    {
     "data": {
      "text/html": [
       "<div>\n",
       "<style scoped>\n",
       "    .dataframe tbody tr th:only-of-type {\n",
       "        vertical-align: middle;\n",
       "    }\n",
       "\n",
       "    .dataframe tbody tr th {\n",
       "        vertical-align: top;\n",
       "    }\n",
       "\n",
       "    .dataframe thead th {\n",
       "        text-align: right;\n",
       "    }\n",
       "</style>\n",
       "<table border=\"1\" class=\"dataframe\">\n",
       "  <thead>\n",
       "    <tr style=\"text-align: right;\">\n",
       "      <th></th>\n",
       "      <th>sourcename</th>\n",
       "    </tr>\n",
       "  </thead>\n",
       "  <tbody>\n",
       "    <tr>\n",
       "      <th>0</th>\n",
       "      <td>42</td>\n",
       "    </tr>\n",
       "    <tr>\n",
       "      <th>1</th>\n",
       "      <td>42</td>\n",
       "    </tr>\n",
       "    <tr>\n",
       "      <th>2</th>\n",
       "      <td>42</td>\n",
       "    </tr>\n",
       "    <tr>\n",
       "      <th>3</th>\n",
       "      <td>42</td>\n",
       "    </tr>\n",
       "    <tr>\n",
       "      <th>4</th>\n",
       "      <td>42</td>\n",
       "    </tr>\n",
       "  </tbody>\n",
       "</table>\n",
       "</div>"
      ],
      "text/plain": [
       "   sourcename\n",
       "0          42\n",
       "1          42\n",
       "2          42\n",
       "3          42\n",
       "4          42"
      ]
     },
     "execution_count": 228,
     "metadata": {},
     "output_type": "execute_result"
    }
   ],
   "source": [
    "check4.head()"
   ]
  },
  {
   "cell_type": "markdown",
   "metadata": {},
   "source": [
    "# FullDescription "
   ]
  },
  {
   "cell_type": "code",
   "execution_count": 3,
   "metadata": {},
   "outputs": [],
   "source": [
    "describution = Second_test['FullDescription']"
   ]
  },
  {
   "cell_type": "code",
   "execution_count": 4,
   "metadata": {},
   "outputs": [],
   "source": [
    "from sklearn.feature_extraction.text import HashingVectorizer"
   ]
  },
  {
   "cell_type": "code",
   "execution_count": 15,
   "metadata": {},
   "outputs": [],
   "source": [
    "vectorizer = HashingVectorizer(n_features=500,lowercase=True,stop_words='english')"
   ]
  },
  {
   "cell_type": "code",
   "execution_count": 16,
   "metadata": {},
   "outputs": [
    {
     "name": "stderr",
     "output_type": "stream",
     "text": [
      "100%|████████████████████████████████████████████████████████████████████████| 367231/367231 [01:21<00:00, 4532.93it/s]\n"
     ]
    }
   ],
   "source": [
    "vector = vectorizer.transform(tqdm(describution))"
   ]
  },
  {
   "cell_type": "code",
   "execution_count": 17,
   "metadata": {},
   "outputs": [
    {
     "data": {
      "text/plain": [
       "<367231x500 sparse matrix of type '<class 'numpy.float64'>'\n",
       "\twith 34716166 stored elements in Compressed Sparse Row format>"
      ]
     },
     "execution_count": 17,
     "metadata": {},
     "output_type": "execute_result"
    }
   ],
   "source": [
    "vector"
   ]
  },
  {
   "cell_type": "code",
   "execution_count": 19,
   "metadata": {},
   "outputs": [
    {
     "name": "stderr",
     "output_type": "stream",
     "text": [
      "367231it [00:22, 16467.80it/s]\n"
     ]
    }
   ],
   "source": [
    "describution_full = []\n",
    "for des_each in tqdm(vector):\n",
    "    describution_full.append(des_each.toarray())  "
   ]
  },
  {
   "cell_type": "code",
   "execution_count": 20,
   "metadata": {},
   "outputs": [
    {
     "data": {
      "text/html": [
       "<div>\n",
       "<style scoped>\n",
       "    .dataframe tbody tr th:only-of-type {\n",
       "        vertical-align: middle;\n",
       "    }\n",
       "\n",
       "    .dataframe tbody tr th {\n",
       "        vertical-align: top;\n",
       "    }\n",
       "\n",
       "    .dataframe thead th {\n",
       "        text-align: right;\n",
       "    }\n",
       "</style>\n",
       "<table border=\"1\" class=\"dataframe\">\n",
       "  <thead>\n",
       "    <tr style=\"text-align: right;\">\n",
       "      <th></th>\n",
       "      <th>fulldescribution</th>\n",
       "    </tr>\n",
       "  </thead>\n",
       "  <tbody>\n",
       "    <tr>\n",
       "      <th>0</th>\n",
       "      <td>[[-0.07738232325341368, 0.07738232325341368, 0...</td>\n",
       "    </tr>\n",
       "    <tr>\n",
       "      <th>1</th>\n",
       "      <td>[[0.03646624787447364, -0.03646624787447364, 0...</td>\n",
       "    </tr>\n",
       "    <tr>\n",
       "      <th>2</th>\n",
       "      <td>[[-0.09284766908852593, 0.0, 0.0, 0.0, 0.0, 0....</td>\n",
       "    </tr>\n",
       "    <tr>\n",
       "      <th>3</th>\n",
       "      <td>[[0.0, 0.0, -0.03763549647474907, -0.037635496...</td>\n",
       "    </tr>\n",
       "    <tr>\n",
       "      <th>4</th>\n",
       "      <td>[[0.0, 0.0, 0.0, 0.0, 0.0, 0.0, 0.0, 0.0, 0.0,...</td>\n",
       "    </tr>\n",
       "  </tbody>\n",
       "</table>\n",
       "</div>"
      ],
      "text/plain": [
       "                                    fulldescribution\n",
       "0  [[-0.07738232325341368, 0.07738232325341368, 0...\n",
       "1  [[0.03646624787447364, -0.03646624787447364, 0...\n",
       "2  [[-0.09284766908852593, 0.0, 0.0, 0.0, 0.0, 0....\n",
       "3  [[0.0, 0.0, -0.03763549647474907, -0.037635496...\n",
       "4  [[0.0, 0.0, 0.0, 0.0, 0.0, 0.0, 0.0, 0.0, 0.0,..."
      ]
     },
     "execution_count": 20,
     "metadata": {},
     "output_type": "execute_result"
    }
   ],
   "source": [
    "check5 = pd.DataFrame({'fulldescribution': describution_full})\n",
    "check5.head()"
   ]
  },
  {
   "cell_type": "markdown",
   "metadata": {},
   "source": [
    "# using keras's onehot vector"
   ]
  },
  {
   "cell_type": "code",
   "execution_count": 36,
   "metadata": {},
   "outputs": [],
   "source": [
    "from keras.preprocessing.text import one_hot\n",
    "from keras.preprocessing.sequence import pad_sequences"
   ]
  },
  {
   "cell_type": "code",
   "execution_count": 28,
   "metadata": {},
   "outputs": [
    {
     "name": "stderr",
     "output_type": "stream",
     "text": [
      "100%|████████████████████████████████████████████████████████████████████████| 367231/367231 [01:08<00:00, 5359.27it/s]\n"
     ]
    }
   ],
   "source": [
    "# integer encode the documents 独热编码\n",
    "vocab_size = 500\n",
    "encoded_docs = [one_hot(d, vocab_size) for d in tqdm(describution)]"
   ]
  },
  {
   "cell_type": "code",
   "execution_count": 35,
   "metadata": {},
   "outputs": [
    {
     "data": {
      "text/plain": [
       "2081"
      ]
     },
     "execution_count": 35,
     "metadata": {},
     "output_type": "execute_result"
    }
   ],
   "source": [
    "maxlength = len(max(encoded_docs, key=len))\n",
    "maxlength"
   ]
  },
  {
   "cell_type": "code",
   "execution_count": 39,
   "metadata": {},
   "outputs": [],
   "source": [
    "padded_docs = pad_sequences(encoded_docs, maxlen = maxlength, padding='post')"
   ]
  },
  {
   "cell_type": "code",
   "execution_count": 43,
   "metadata": {},
   "outputs": [
    {
     "data": {
      "text/plain": [
       "(367231, 2081)"
      ]
     },
     "execution_count": 43,
     "metadata": {},
     "output_type": "execute_result"
    }
   ],
   "source": [
    "padded_docs.shape"
   ]
  },
  {
   "cell_type": "code",
   "execution_count": 44,
   "metadata": {},
   "outputs": [
    {
     "data": {
      "text/plain": [
       "array([[ 97, 128,  35, ...,   0,   0,   0],\n",
       "       [ 97, 128, 394, ...,   0,   0,   0],\n",
       "       [219, 163, 124, ...,   0,   0,   0],\n",
       "       ...,\n",
       "       [372, 165, 388, ...,   0,   0,   0],\n",
       "       [372, 165, 388, ...,   0,   0,   0],\n",
       "       [143, 483,  52, ...,   0,   0,   0]])"
      ]
     },
     "execution_count": 44,
     "metadata": {},
     "output_type": "execute_result"
    }
   ],
   "source": [
    "padded_docs"
   ]
  },
  {
   "cell_type": "markdown",
   "metadata": {},
   "source": [
    "# Combine"
   ]
  },
  {
   "cell_type": "code",
   "execution_count": 47,
   "metadata": {},
   "outputs": [
    {
     "name": "stdout",
     "output_type": "stream",
     "text": [
      "Wall time: 565 ms\n"
     ]
    }
   ],
   "source": [
    "%%time\n",
    "file = Second_test['File']\n",
    "Id = Second_test['Id']\n",
    "\n",
    "df = pd.read_csv('title_1.csv')\n",
    "title = df['title']\n",
    "\n",
    "full_describution = Second_test['FullDescription']\n",
    "\n",
    "df = pd.read_csv('location_vec.csv')\n",
    "location_1 = df['location_1']\n",
    "location_2 = df['location_2']\n",
    "location_3 = df['location_3']\n",
    "location_4 = df['location_4']\n",
    "location_5 = df['location_5']\n",
    "location_6 = df['location_6']\n",
    "\n",
    "contracttype = Second_test['ContractType']\n",
    "contracttime = Second_test['ContractTime']\n",
    "\n",
    "\n",
    "df = pd.read_csv('company_1.csv')\n",
    "company = df['company']\n",
    "\n",
    "Category = Second_test['Category']\n",
    "\n",
    "df = pd.read_csv('sourcename_1.csv')\n",
    "sourcename = df['sourcename']\n",
    "\n",
    "salaryraw = Second_test['SalaryRaw']\n",
    "salaryNormalized = Second_test['SalaryNormalized']"
   ]
  },
  {
   "cell_type": "code",
   "execution_count": 49,
   "metadata": {},
   "outputs": [
    {
     "data": {
      "text/html": [
       "<div>\n",
       "<style scoped>\n",
       "    .dataframe tbody tr th:only-of-type {\n",
       "        vertical-align: middle;\n",
       "    }\n",
       "\n",
       "    .dataframe tbody tr th {\n",
       "        vertical-align: top;\n",
       "    }\n",
       "\n",
       "    .dataframe thead th {\n",
       "        text-align: right;\n",
       "    }\n",
       "</style>\n",
       "<table border=\"1\" class=\"dataframe\">\n",
       "  <thead>\n",
       "    <tr style=\"text-align: right;\">\n",
       "      <th></th>\n",
       "      <th>Category</th>\n",
       "      <th>ContractTime</th>\n",
       "      <th>ContractType</th>\n",
       "      <th>File</th>\n",
       "      <th>FullDescription</th>\n",
       "      <th>Id</th>\n",
       "      <th>SalaryNormalized</th>\n",
       "      <th>SalaryRaw</th>\n",
       "      <th>company</th>\n",
       "      <th>location_1</th>\n",
       "      <th>location_2</th>\n",
       "      <th>location_3</th>\n",
       "      <th>location_4</th>\n",
       "      <th>location_5</th>\n",
       "      <th>location_6</th>\n",
       "      <th>sourcename</th>\n",
       "      <th>title</th>\n",
       "    </tr>\n",
       "  </thead>\n",
       "  <tbody>\n",
       "    <tr>\n",
       "      <th>0</th>\n",
       "      <td>26</td>\n",
       "      <td>1</td>\n",
       "      <td>0</td>\n",
       "      <td>Test_rev1.csv</td>\n",
       "      <td>The Company: Our client is a national training...</td>\n",
       "      <td>11888454</td>\n",
       "      <td>NaN</td>\n",
       "      <td>NaN</td>\n",
       "      <td>1265.0</td>\n",
       "      <td>1</td>\n",
       "      <td>3</td>\n",
       "      <td>63</td>\n",
       "      <td>135</td>\n",
       "      <td>1219</td>\n",
       "      <td>5130</td>\n",
       "      <td>42</td>\n",
       "      <td>1</td>\n",
       "    </tr>\n",
       "    <tr>\n",
       "      <th>1</th>\n",
       "      <td>3</td>\n",
       "      <td>1</td>\n",
       "      <td>0</td>\n",
       "      <td>Test_rev1.csv</td>\n",
       "      <td>The Company: Founded in **** our client is a U...</td>\n",
       "      <td>11988350</td>\n",
       "      <td>NaN</td>\n",
       "      <td>NaN</td>\n",
       "      <td>1265.0</td>\n",
       "      <td>1</td>\n",
       "      <td>3</td>\n",
       "      <td>63</td>\n",
       "      <td>135</td>\n",
       "      <td>1219</td>\n",
       "      <td>5130</td>\n",
       "      <td>42</td>\n",
       "      <td>495</td>\n",
       "    </tr>\n",
       "    <tr>\n",
       "      <th>2</th>\n",
       "      <td>8</td>\n",
       "      <td>1</td>\n",
       "      <td>0</td>\n",
       "      <td>Test_rev1.csv</td>\n",
       "      <td>Engineering Systems Analysts Surrey ****K Loca...</td>\n",
       "      <td>12612558</td>\n",
       "      <td>NaN</td>\n",
       "      <td>NaN</td>\n",
       "      <td>915.0</td>\n",
       "      <td>1</td>\n",
       "      <td>0</td>\n",
       "      <td>0</td>\n",
       "      <td>185</td>\n",
       "      <td>1066</td>\n",
       "      <td>5976</td>\n",
       "      <td>42</td>\n",
       "      <td>0</td>\n",
       "    </tr>\n",
       "    <tr>\n",
       "      <th>3</th>\n",
       "      <td>8</td>\n",
       "      <td>1</td>\n",
       "      <td>0</td>\n",
       "      <td>Test_rev1.csv</td>\n",
       "      <td>CIS Systems Engineering Consultant Bristol  So...</td>\n",
       "      <td>12613014</td>\n",
       "      <td>NaN</td>\n",
       "      <td>NaN</td>\n",
       "      <td>915.0</td>\n",
       "      <td>1</td>\n",
       "      <td>0</td>\n",
       "      <td>54</td>\n",
       "      <td>183</td>\n",
       "      <td>177</td>\n",
       "      <td>6793</td>\n",
       "      <td>42</td>\n",
       "      <td>0</td>\n",
       "    </tr>\n",
       "    <tr>\n",
       "      <th>4</th>\n",
       "      <td>17</td>\n",
       "      <td>1</td>\n",
       "      <td>0</td>\n",
       "      <td>Test_rev1.csv</td>\n",
       "      <td>CNC Miller / Programmer Fanac Fleet, Hampshire...</td>\n",
       "      <td>22454872</td>\n",
       "      <td>NaN</td>\n",
       "      <td>NaN</td>\n",
       "      <td>915.0</td>\n",
       "      <td>1</td>\n",
       "      <td>0</td>\n",
       "      <td>38</td>\n",
       "      <td>152</td>\n",
       "      <td>250</td>\n",
       "      <td>8128</td>\n",
       "      <td>42</td>\n",
       "      <td>0</td>\n",
       "    </tr>\n",
       "  </tbody>\n",
       "</table>\n",
       "</div>"
      ],
      "text/plain": [
       "   Category  ContractTime  ContractType           File  \\\n",
       "0        26             1             0  Test_rev1.csv   \n",
       "1         3             1             0  Test_rev1.csv   \n",
       "2         8             1             0  Test_rev1.csv   \n",
       "3         8             1             0  Test_rev1.csv   \n",
       "4        17             1             0  Test_rev1.csv   \n",
       "\n",
       "                                     FullDescription        Id  \\\n",
       "0  The Company: Our client is a national training...  11888454   \n",
       "1  The Company: Founded in **** our client is a U...  11988350   \n",
       "2  Engineering Systems Analysts Surrey ****K Loca...  12612558   \n",
       "3  CIS Systems Engineering Consultant Bristol  So...  12613014   \n",
       "4  CNC Miller / Programmer Fanac Fleet, Hampshire...  22454872   \n",
       "\n",
       "   SalaryNormalized SalaryRaw  company  location_1  location_2  location_3  \\\n",
       "0               NaN       NaN   1265.0           1           3          63   \n",
       "1               NaN       NaN   1265.0           1           3          63   \n",
       "2               NaN       NaN    915.0           1           0           0   \n",
       "3               NaN       NaN    915.0           1           0          54   \n",
       "4               NaN       NaN    915.0           1           0          38   \n",
       "\n",
       "   location_4  location_5  location_6  sourcename  title  \n",
       "0         135        1219        5130          42      1  \n",
       "1         135        1219        5130          42    495  \n",
       "2         185        1066        5976          42      0  \n",
       "3         183         177        6793          42      0  \n",
       "4         152         250        8128          42      0  "
      ]
     },
     "execution_count": 49,
     "metadata": {},
     "output_type": "execute_result"
    }
   ],
   "source": [
    "final = pd.DataFrame({'File': file,\n",
    "                      'Id': Id,\n",
    "                      'title': title,\n",
    "                      'FullDescription': full_describution,\n",
    "                      'location_1': location_1,\n",
    "                      'location_2': location_2,\n",
    "                      'location_3': location_3,\n",
    "                      'location_4': location_4,\n",
    "                      'location_5': location_5,\n",
    "                      'location_6': location_6,\n",
    "                      'ContractType': contracttype,\n",
    "                      'ContractTime': contracttime,\n",
    "                      'company': company,\n",
    "                      'Category': Category,\n",
    "                      'sourcename': sourcename,\n",
    "                      'SalaryRaw': salaryraw,\n",
    "                      'SalaryNormalized': salaryNormalized                                         \n",
    "                     })\n",
    "final.head()"
   ]
  },
  {
   "cell_type": "markdown",
   "metadata": {},
   "source": [
    "Based on File name: split to trian and test data\n",
    "full desciption will code in next part"
   ]
  },
  {
   "cell_type": "code",
   "execution_count": 51,
   "metadata": {},
   "outputs": [],
   "source": [
    "final.to_csv('salary_vec.csv')"
   ]
  },
  {
   "cell_type": "code",
   "execution_count": 54,
   "metadata": {},
   "outputs": [
    {
     "data": {
      "text/html": [
       "<div>\n",
       "<style scoped>\n",
       "    .dataframe tbody tr th:only-of-type {\n",
       "        vertical-align: middle;\n",
       "    }\n",
       "\n",
       "    .dataframe tbody tr th {\n",
       "        vertical-align: top;\n",
       "    }\n",
       "\n",
       "    .dataframe thead th {\n",
       "        text-align: right;\n",
       "    }\n",
       "</style>\n",
       "<table border=\"1\" class=\"dataframe\">\n",
       "  <thead>\n",
       "    <tr style=\"text-align: right;\">\n",
       "      <th></th>\n",
       "      <th>Category</th>\n",
       "      <th>ContractTime</th>\n",
       "      <th>ContractType</th>\n",
       "      <th>FullDescription</th>\n",
       "      <th>Id</th>\n",
       "      <th>SalaryNormalized</th>\n",
       "      <th>SalaryRaw</th>\n",
       "      <th>company</th>\n",
       "      <th>location_1</th>\n",
       "      <th>location_2</th>\n",
       "      <th>location_3</th>\n",
       "      <th>location_4</th>\n",
       "      <th>location_5</th>\n",
       "      <th>location_6</th>\n",
       "      <th>sourcename</th>\n",
       "      <th>title</th>\n",
       "    </tr>\n",
       "  </thead>\n",
       "  <tbody>\n",
       "    <tr>\n",
       "      <th>0</th>\n",
       "      <td>8</td>\n",
       "      <td>1</td>\n",
       "      <td>0</td>\n",
       "      <td>Engineering Systems Analyst Dorking Surrey Sal...</td>\n",
       "      <td>12612628</td>\n",
       "      <td>25000</td>\n",
       "      <td>20000 - 30000/annum 20-30K</td>\n",
       "      <td>915</td>\n",
       "      <td>1</td>\n",
       "      <td>0</td>\n",
       "      <td>53</td>\n",
       "      <td>201</td>\n",
       "      <td>353</td>\n",
       "      <td>5888</td>\n",
       "      <td>42</td>\n",
       "      <td>0</td>\n",
       "    </tr>\n",
       "    <tr>\n",
       "      <th>1</th>\n",
       "      <td>8</td>\n",
       "      <td>1</td>\n",
       "      <td>0</td>\n",
       "      <td>Stress Engineer Glasgow Salary **** to **** We...</td>\n",
       "      <td>12612830</td>\n",
       "      <td>30000</td>\n",
       "      <td>25000 - 35000/annum 25-35K</td>\n",
       "      <td>915</td>\n",
       "      <td>1</td>\n",
       "      <td>0</td>\n",
       "      <td>0</td>\n",
       "      <td>0</td>\n",
       "      <td>962</td>\n",
       "      <td>3062</td>\n",
       "      <td>42</td>\n",
       "      <td>0</td>\n",
       "    </tr>\n",
       "    <tr>\n",
       "      <th>2</th>\n",
       "      <td>8</td>\n",
       "      <td>1</td>\n",
       "      <td>0</td>\n",
       "      <td>Mathematical Modeller / Simulation Analyst / O...</td>\n",
       "      <td>12612844</td>\n",
       "      <td>30000</td>\n",
       "      <td>20000 - 40000/annum 20-40K</td>\n",
       "      <td>915</td>\n",
       "      <td>1</td>\n",
       "      <td>0</td>\n",
       "      <td>0</td>\n",
       "      <td>0</td>\n",
       "      <td>1004</td>\n",
       "      <td>3324</td>\n",
       "      <td>42</td>\n",
       "      <td>0</td>\n",
       "    </tr>\n",
       "    <tr>\n",
       "      <th>3</th>\n",
       "      <td>8</td>\n",
       "      <td>1</td>\n",
       "      <td>0</td>\n",
       "      <td>Engineering Systems Analyst / Mathematical Mod...</td>\n",
       "      <td>12613049</td>\n",
       "      <td>27500</td>\n",
       "      <td>25000 - 30000/annum 25K-30K negotiable</td>\n",
       "      <td>915</td>\n",
       "      <td>1</td>\n",
       "      <td>0</td>\n",
       "      <td>0</td>\n",
       "      <td>185</td>\n",
       "      <td>1066</td>\n",
       "      <td>5976</td>\n",
       "      <td>42</td>\n",
       "      <td>0</td>\n",
       "    </tr>\n",
       "    <tr>\n",
       "      <th>4</th>\n",
       "      <td>8</td>\n",
       "      <td>1</td>\n",
       "      <td>0</td>\n",
       "      <td>Pioneer, Miser  Engineering Systems Analyst Do...</td>\n",
       "      <td>12613647</td>\n",
       "      <td>25000</td>\n",
       "      <td>20000 - 30000/annum 20-30K</td>\n",
       "      <td>915</td>\n",
       "      <td>1</td>\n",
       "      <td>0</td>\n",
       "      <td>0</td>\n",
       "      <td>185</td>\n",
       "      <td>1066</td>\n",
       "      <td>5976</td>\n",
       "      <td>42</td>\n",
       "      <td>0</td>\n",
       "    </tr>\n",
       "  </tbody>\n",
       "</table>\n",
       "</div>"
      ],
      "text/plain": [
       "   Category  ContractTime  ContractType  \\\n",
       "0         8             1             0   \n",
       "1         8             1             0   \n",
       "2         8             1             0   \n",
       "3         8             1             0   \n",
       "4         8             1             0   \n",
       "\n",
       "                                     FullDescription        Id  \\\n",
       "0  Engineering Systems Analyst Dorking Surrey Sal...  12612628   \n",
       "1  Stress Engineer Glasgow Salary **** to **** We...  12612830   \n",
       "2  Mathematical Modeller / Simulation Analyst / O...  12612844   \n",
       "3  Engineering Systems Analyst / Mathematical Mod...  12613049   \n",
       "4  Pioneer, Miser  Engineering Systems Analyst Do...  12613647   \n",
       "\n",
       "   SalaryNormalized                               SalaryRaw  company  \\\n",
       "0             25000              20000 - 30000/annum 20-30K      915   \n",
       "1             30000              25000 - 35000/annum 25-35K      915   \n",
       "2             30000              20000 - 40000/annum 20-40K      915   \n",
       "3             27500  25000 - 30000/annum 25K-30K negotiable      915   \n",
       "4             25000              20000 - 30000/annum 20-30K      915   \n",
       "\n",
       "   location_1  location_2  location_3  location_4  location_5  location_6  \\\n",
       "0           1           0          53         201         353        5888   \n",
       "1           1           0           0           0         962        3062   \n",
       "2           1           0           0           0        1004        3324   \n",
       "3           1           0           0         185        1066        5976   \n",
       "4           1           0           0         185        1066        5976   \n",
       "\n",
       "   sourcename  title  \n",
       "0          42      0  \n",
       "1          42      0  \n",
       "2          42      0  \n",
       "3          42      0  \n",
       "4          42      0  "
      ]
     },
     "execution_count": 54,
     "metadata": {},
     "output_type": "execute_result"
    }
   ],
   "source": [
    "train = pd.read_csv('salary_train.csv')\n",
    "train.head()"
   ]
  },
  {
   "cell_type": "code",
   "execution_count": 55,
   "metadata": {},
   "outputs": [
    {
     "data": {
      "text/html": [
       "<div>\n",
       "<style scoped>\n",
       "    .dataframe tbody tr th:only-of-type {\n",
       "        vertical-align: middle;\n",
       "    }\n",
       "\n",
       "    .dataframe tbody tr th {\n",
       "        vertical-align: top;\n",
       "    }\n",
       "\n",
       "    .dataframe thead th {\n",
       "        text-align: right;\n",
       "    }\n",
       "</style>\n",
       "<table border=\"1\" class=\"dataframe\">\n",
       "  <thead>\n",
       "    <tr style=\"text-align: right;\">\n",
       "      <th></th>\n",
       "      <th>Category</th>\n",
       "      <th>ContractTime</th>\n",
       "      <th>ContractType</th>\n",
       "      <th>FullDescription</th>\n",
       "      <th>Id</th>\n",
       "      <th>SalaryNormalized</th>\n",
       "      <th>SalaryRaw</th>\n",
       "      <th>company</th>\n",
       "      <th>location_1</th>\n",
       "      <th>location_2</th>\n",
       "      <th>location_3</th>\n",
       "      <th>location_4</th>\n",
       "      <th>location_5</th>\n",
       "      <th>location_6</th>\n",
       "      <th>sourcename</th>\n",
       "      <th>title</th>\n",
       "    </tr>\n",
       "  </thead>\n",
       "  <tbody>\n",
       "    <tr>\n",
       "      <th>0</th>\n",
       "      <td>26</td>\n",
       "      <td>1</td>\n",
       "      <td>0</td>\n",
       "      <td>The Company: Our client is a national training...</td>\n",
       "      <td>11888454</td>\n",
       "      <td>NaN</td>\n",
       "      <td>NaN</td>\n",
       "      <td>1265</td>\n",
       "      <td>1</td>\n",
       "      <td>3</td>\n",
       "      <td>63</td>\n",
       "      <td>135</td>\n",
       "      <td>1219</td>\n",
       "      <td>5130</td>\n",
       "      <td>42</td>\n",
       "      <td>1</td>\n",
       "    </tr>\n",
       "    <tr>\n",
       "      <th>1</th>\n",
       "      <td>3</td>\n",
       "      <td>1</td>\n",
       "      <td>0</td>\n",
       "      <td>The Company: Founded in **** our client is a U...</td>\n",
       "      <td>11988350</td>\n",
       "      <td>NaN</td>\n",
       "      <td>NaN</td>\n",
       "      <td>1265</td>\n",
       "      <td>1</td>\n",
       "      <td>3</td>\n",
       "      <td>63</td>\n",
       "      <td>135</td>\n",
       "      <td>1219</td>\n",
       "      <td>5130</td>\n",
       "      <td>42</td>\n",
       "      <td>495</td>\n",
       "    </tr>\n",
       "    <tr>\n",
       "      <th>2</th>\n",
       "      <td>8</td>\n",
       "      <td>1</td>\n",
       "      <td>0</td>\n",
       "      <td>Engineering Systems Analysts Surrey ****K Loca...</td>\n",
       "      <td>12612558</td>\n",
       "      <td>NaN</td>\n",
       "      <td>NaN</td>\n",
       "      <td>915</td>\n",
       "      <td>1</td>\n",
       "      <td>0</td>\n",
       "      <td>0</td>\n",
       "      <td>185</td>\n",
       "      <td>1066</td>\n",
       "      <td>5976</td>\n",
       "      <td>42</td>\n",
       "      <td>0</td>\n",
       "    </tr>\n",
       "    <tr>\n",
       "      <th>3</th>\n",
       "      <td>8</td>\n",
       "      <td>1</td>\n",
       "      <td>0</td>\n",
       "      <td>CIS Systems Engineering Consultant Bristol  So...</td>\n",
       "      <td>12613014</td>\n",
       "      <td>NaN</td>\n",
       "      <td>NaN</td>\n",
       "      <td>915</td>\n",
       "      <td>1</td>\n",
       "      <td>0</td>\n",
       "      <td>54</td>\n",
       "      <td>183</td>\n",
       "      <td>177</td>\n",
       "      <td>6793</td>\n",
       "      <td>42</td>\n",
       "      <td>0</td>\n",
       "    </tr>\n",
       "    <tr>\n",
       "      <th>4</th>\n",
       "      <td>17</td>\n",
       "      <td>1</td>\n",
       "      <td>0</td>\n",
       "      <td>CNC Miller / Programmer Fanac Fleet, Hampshire...</td>\n",
       "      <td>22454872</td>\n",
       "      <td>NaN</td>\n",
       "      <td>NaN</td>\n",
       "      <td>915</td>\n",
       "      <td>1</td>\n",
       "      <td>0</td>\n",
       "      <td>38</td>\n",
       "      <td>152</td>\n",
       "      <td>250</td>\n",
       "      <td>8128</td>\n",
       "      <td>42</td>\n",
       "      <td>0</td>\n",
       "    </tr>\n",
       "  </tbody>\n",
       "</table>\n",
       "</div>"
      ],
      "text/plain": [
       "   Category  ContractTime  ContractType  \\\n",
       "0        26             1             0   \n",
       "1         3             1             0   \n",
       "2         8             1             0   \n",
       "3         8             1             0   \n",
       "4        17             1             0   \n",
       "\n",
       "                                     FullDescription        Id  \\\n",
       "0  The Company: Our client is a national training...  11888454   \n",
       "1  The Company: Founded in **** our client is a U...  11988350   \n",
       "2  Engineering Systems Analysts Surrey ****K Loca...  12612558   \n",
       "3  CIS Systems Engineering Consultant Bristol  So...  12613014   \n",
       "4  CNC Miller / Programmer Fanac Fleet, Hampshire...  22454872   \n",
       "\n",
       "   SalaryNormalized  SalaryRaw  company  location_1  location_2  location_3  \\\n",
       "0               NaN        NaN     1265           1           3          63   \n",
       "1               NaN        NaN     1265           1           3          63   \n",
       "2               NaN        NaN      915           1           0           0   \n",
       "3               NaN        NaN      915           1           0          54   \n",
       "4               NaN        NaN      915           1           0          38   \n",
       "\n",
       "   location_4  location_5  location_6  sourcename  title  \n",
       "0         135        1219        5130          42      1  \n",
       "1         135        1219        5130          42    495  \n",
       "2         185        1066        5976          42      0  \n",
       "3         183         177        6793          42      0  \n",
       "4         152         250        8128          42      0  "
      ]
     },
     "execution_count": 55,
     "metadata": {},
     "output_type": "execute_result"
    }
   ],
   "source": [
    "test = pd.read_csv('salary_test.csv')\n",
    "test.head()"
   ]
  },
  {
   "cell_type": "code",
   "execution_count": null,
   "metadata": {},
   "outputs": [],
   "source": []
  }
 ],
 "metadata": {
  "anaconda-cloud": {},
  "kernelspec": {
   "display_name": "Python [conda env:tensorflow]",
   "language": "python",
   "name": "conda-env-tensorflow-py"
  },
  "language_info": {
   "codemirror_mode": {
    "name": "ipython",
    "version": 3
   },
   "file_extension": ".py",
   "mimetype": "text/x-python",
   "name": "python",
   "nbconvert_exporter": "python",
   "pygments_lexer": "ipython3",
   "version": "3.5.4"
  }
 },
 "nbformat": 4,
 "nbformat_minor": 1
}
