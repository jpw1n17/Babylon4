{
 "cells": [
  {
   "cell_type": "code",
   "execution_count": 1,
   "metadata": {},
   "outputs": [
    {
     "name": "stderr",
     "output_type": "stream",
     "text": [
      "E:\\Anaconda\\envs\\tensorflow\\lib\\site-packages\\h5py\\__init__.py:36: FutureWarning: Conversion of the second argument of issubdtype from `float` to `np.floating` is deprecated. In future, it will be treated as `np.float64 == np.dtype(float).type`.\n",
      "  from ._conv import register_converters as _register_converters\n",
      "Using TensorFlow backend.\n"
     ]
    }
   ],
   "source": [
    "import pandas as pd\n",
    "import matplotlib.pyplot as plt\n",
    "from tqdm import tqdm\n",
    "import numpy as np\n",
    "\n",
    "from keras.layers import Dense, Flatten, Input\n",
    "from keras.layers.embeddings import Embedding\n",
    "from keras.models import Model\n",
    "from keras.preprocessing.sequence import pad_sequences\n",
    "from keras.preprocessing.text import one_hot\n",
    "from keras import Sequential\n",
    "import keras\n",
    "from sklearn.preprocessing import OneHotEncoder\n",
    "\n",
    "from keras.layers import Dropout\n",
    "import h5py  # compress and save features"
   ]
  },
  {
   "cell_type": "markdown",
   "metadata": {},
   "source": [
    "# Loading cleaned data"
   ]
  },
  {
   "cell_type": "code",
   "execution_count": 2,
   "metadata": {},
   "outputs": [
    {
     "data": {
      "text/html": [
       "<div>\n",
       "<style scoped>\n",
       "    .dataframe tbody tr th:only-of-type {\n",
       "        vertical-align: middle;\n",
       "    }\n",
       "\n",
       "    .dataframe tbody tr th {\n",
       "        vertical-align: top;\n",
       "    }\n",
       "\n",
       "    .dataframe thead th {\n",
       "        text-align: right;\n",
       "    }\n",
       "</style>\n",
       "<table border=\"1\" class=\"dataframe\">\n",
       "  <thead>\n",
       "    <tr style=\"text-align: right;\">\n",
       "      <th></th>\n",
       "      <th>Category</th>\n",
       "      <th>ContractTime</th>\n",
       "      <th>ContractType</th>\n",
       "      <th>FullDescription</th>\n",
       "      <th>Id</th>\n",
       "      <th>SalaryNormalized</th>\n",
       "      <th>SalaryRaw</th>\n",
       "      <th>company</th>\n",
       "      <th>location_1</th>\n",
       "      <th>location_2</th>\n",
       "      <th>location_3</th>\n",
       "      <th>location_4</th>\n",
       "      <th>location_5</th>\n",
       "      <th>location_6</th>\n",
       "      <th>sourcename</th>\n",
       "      <th>title</th>\n",
       "    </tr>\n",
       "  </thead>\n",
       "  <tbody>\n",
       "    <tr>\n",
       "      <th>0</th>\n",
       "      <td>8</td>\n",
       "      <td>1</td>\n",
       "      <td>0</td>\n",
       "      <td>Engineering Systems Analyst Dorking Surrey Sal...</td>\n",
       "      <td>12612628</td>\n",
       "      <td>25000</td>\n",
       "      <td>20000 - 30000/annum 20-30K</td>\n",
       "      <td>912</td>\n",
       "      <td>1</td>\n",
       "      <td>0</td>\n",
       "      <td>53</td>\n",
       "      <td>201</td>\n",
       "      <td>353</td>\n",
       "      <td>462</td>\n",
       "      <td>42</td>\n",
       "      <td>0</td>\n",
       "    </tr>\n",
       "    <tr>\n",
       "      <th>1</th>\n",
       "      <td>8</td>\n",
       "      <td>1</td>\n",
       "      <td>0</td>\n",
       "      <td>Stress Engineer Glasgow Salary **** to **** We...</td>\n",
       "      <td>12612830</td>\n",
       "      <td>30000</td>\n",
       "      <td>25000 - 35000/annum 25-35K</td>\n",
       "      <td>912</td>\n",
       "      <td>1</td>\n",
       "      <td>0</td>\n",
       "      <td>0</td>\n",
       "      <td>0</td>\n",
       "      <td>962</td>\n",
       "      <td>29</td>\n",
       "      <td>42</td>\n",
       "      <td>0</td>\n",
       "    </tr>\n",
       "    <tr>\n",
       "      <th>2</th>\n",
       "      <td>8</td>\n",
       "      <td>1</td>\n",
       "      <td>0</td>\n",
       "      <td>Mathematical Modeller / Simulation Analyst / O...</td>\n",
       "      <td>12612844</td>\n",
       "      <td>30000</td>\n",
       "      <td>20000 - 40000/annum 20-40K</td>\n",
       "      <td>912</td>\n",
       "      <td>1</td>\n",
       "      <td>0</td>\n",
       "      <td>0</td>\n",
       "      <td>0</td>\n",
       "      <td>1004</td>\n",
       "      <td>23</td>\n",
       "      <td>42</td>\n",
       "      <td>0</td>\n",
       "    </tr>\n",
       "    <tr>\n",
       "      <th>3</th>\n",
       "      <td>8</td>\n",
       "      <td>1</td>\n",
       "      <td>0</td>\n",
       "      <td>Engineering Systems Analyst / Mathematical Mod...</td>\n",
       "      <td>12613049</td>\n",
       "      <td>27500</td>\n",
       "      <td>25000 - 30000/annum 25K-30K negotiable</td>\n",
       "      <td>912</td>\n",
       "      <td>1</td>\n",
       "      <td>0</td>\n",
       "      <td>0</td>\n",
       "      <td>185</td>\n",
       "      <td>1066</td>\n",
       "      <td>11</td>\n",
       "      <td>42</td>\n",
       "      <td>0</td>\n",
       "    </tr>\n",
       "    <tr>\n",
       "      <th>4</th>\n",
       "      <td>8</td>\n",
       "      <td>1</td>\n",
       "      <td>0</td>\n",
       "      <td>Pioneer, Miser  Engineering Systems Analyst Do...</td>\n",
       "      <td>12613647</td>\n",
       "      <td>25000</td>\n",
       "      <td>20000 - 30000/annum 20-30K</td>\n",
       "      <td>912</td>\n",
       "      <td>1</td>\n",
       "      <td>0</td>\n",
       "      <td>0</td>\n",
       "      <td>185</td>\n",
       "      <td>1066</td>\n",
       "      <td>11</td>\n",
       "      <td>42</td>\n",
       "      <td>0</td>\n",
       "    </tr>\n",
       "  </tbody>\n",
       "</table>\n",
       "</div>"
      ],
      "text/plain": [
       "   Category  ContractTime  ContractType  \\\n",
       "0         8             1             0   \n",
       "1         8             1             0   \n",
       "2         8             1             0   \n",
       "3         8             1             0   \n",
       "4         8             1             0   \n",
       "\n",
       "                                     FullDescription        Id  \\\n",
       "0  Engineering Systems Analyst Dorking Surrey Sal...  12612628   \n",
       "1  Stress Engineer Glasgow Salary **** to **** We...  12612830   \n",
       "2  Mathematical Modeller / Simulation Analyst / O...  12612844   \n",
       "3  Engineering Systems Analyst / Mathematical Mod...  12613049   \n",
       "4  Pioneer, Miser  Engineering Systems Analyst Do...  12613647   \n",
       "\n",
       "   SalaryNormalized                               SalaryRaw  company  \\\n",
       "0             25000              20000 - 30000/annum 20-30K      912   \n",
       "1             30000              25000 - 35000/annum 25-35K      912   \n",
       "2             30000              20000 - 40000/annum 20-40K      912   \n",
       "3             27500  25000 - 30000/annum 25K-30K negotiable      912   \n",
       "4             25000              20000 - 30000/annum 20-30K      912   \n",
       "\n",
       "   location_1  location_2  location_3  location_4  location_5  location_6  \\\n",
       "0           1           0          53         201         353         462   \n",
       "1           1           0           0           0         962          29   \n",
       "2           1           0           0           0        1004          23   \n",
       "3           1           0           0         185        1066          11   \n",
       "4           1           0           0         185        1066          11   \n",
       "\n",
       "   sourcename  title  \n",
       "0          42      0  \n",
       "1          42      0  \n",
       "2          42      0  \n",
       "3          42      0  \n",
       "4          42      0  "
      ]
     },
     "execution_count": 2,
     "metadata": {},
     "output_type": "execute_result"
    }
   ],
   "source": [
    "train = pd.read_csv('salary_train_fixed.csv')\n",
    "train.head()"
   ]
  },
  {
   "cell_type": "code",
   "execution_count": 2,
   "metadata": {},
   "outputs": [
    {
     "data": {
      "text/html": [
       "<div>\n",
       "<style scoped>\n",
       "    .dataframe tbody tr th:only-of-type {\n",
       "        vertical-align: middle;\n",
       "    }\n",
       "\n",
       "    .dataframe tbody tr th {\n",
       "        vertical-align: top;\n",
       "    }\n",
       "\n",
       "    .dataframe thead th {\n",
       "        text-align: right;\n",
       "    }\n",
       "</style>\n",
       "<table border=\"1\" class=\"dataframe\">\n",
       "  <thead>\n",
       "    <tr style=\"text-align: right;\">\n",
       "      <th></th>\n",
       "      <th>Category</th>\n",
       "      <th>ContractTime</th>\n",
       "      <th>ContractType</th>\n",
       "      <th>FullDescription</th>\n",
       "      <th>Id</th>\n",
       "      <th>SalaryNormalized</th>\n",
       "      <th>SalaryRaw</th>\n",
       "      <th>company</th>\n",
       "      <th>location_1</th>\n",
       "      <th>location_2</th>\n",
       "      <th>location_3</th>\n",
       "      <th>location_4</th>\n",
       "      <th>location_5</th>\n",
       "      <th>location_6</th>\n",
       "      <th>sourcename</th>\n",
       "      <th>title</th>\n",
       "    </tr>\n",
       "  </thead>\n",
       "  <tbody>\n",
       "    <tr>\n",
       "      <th>0</th>\n",
       "      <td>26</td>\n",
       "      <td>1</td>\n",
       "      <td>0</td>\n",
       "      <td>The Company: Our client is a national training...</td>\n",
       "      <td>11888454</td>\n",
       "      <td>NaN</td>\n",
       "      <td>NaN</td>\n",
       "      <td>1256</td>\n",
       "      <td>1</td>\n",
       "      <td>3</td>\n",
       "      <td>63</td>\n",
       "      <td>135</td>\n",
       "      <td>1219</td>\n",
       "      <td>22</td>\n",
       "      <td>42</td>\n",
       "      <td>1</td>\n",
       "    </tr>\n",
       "    <tr>\n",
       "      <th>1</th>\n",
       "      <td>3</td>\n",
       "      <td>1</td>\n",
       "      <td>0</td>\n",
       "      <td>The Company: Founded in **** our client is a U...</td>\n",
       "      <td>11988350</td>\n",
       "      <td>NaN</td>\n",
       "      <td>NaN</td>\n",
       "      <td>1256</td>\n",
       "      <td>1</td>\n",
       "      <td>3</td>\n",
       "      <td>63</td>\n",
       "      <td>135</td>\n",
       "      <td>1219</td>\n",
       "      <td>22</td>\n",
       "      <td>42</td>\n",
       "      <td>495</td>\n",
       "    </tr>\n",
       "    <tr>\n",
       "      <th>2</th>\n",
       "      <td>8</td>\n",
       "      <td>1</td>\n",
       "      <td>0</td>\n",
       "      <td>Engineering Systems Analysts Surrey ****K Loca...</td>\n",
       "      <td>12612558</td>\n",
       "      <td>NaN</td>\n",
       "      <td>NaN</td>\n",
       "      <td>912</td>\n",
       "      <td>1</td>\n",
       "      <td>0</td>\n",
       "      <td>0</td>\n",
       "      <td>185</td>\n",
       "      <td>1066</td>\n",
       "      <td>11</td>\n",
       "      <td>42</td>\n",
       "      <td>0</td>\n",
       "    </tr>\n",
       "    <tr>\n",
       "      <th>3</th>\n",
       "      <td>8</td>\n",
       "      <td>1</td>\n",
       "      <td>0</td>\n",
       "      <td>CIS Systems Engineering Consultant Bristol  So...</td>\n",
       "      <td>12613014</td>\n",
       "      <td>NaN</td>\n",
       "      <td>NaN</td>\n",
       "      <td>912</td>\n",
       "      <td>1</td>\n",
       "      <td>0</td>\n",
       "      <td>54</td>\n",
       "      <td>183</td>\n",
       "      <td>177</td>\n",
       "      <td>10</td>\n",
       "      <td>42</td>\n",
       "      <td>0</td>\n",
       "    </tr>\n",
       "    <tr>\n",
       "      <th>4</th>\n",
       "      <td>17</td>\n",
       "      <td>1</td>\n",
       "      <td>0</td>\n",
       "      <td>CNC Miller / Programmer Fanac Fleet, Hampshire...</td>\n",
       "      <td>22454872</td>\n",
       "      <td>NaN</td>\n",
       "      <td>NaN</td>\n",
       "      <td>912</td>\n",
       "      <td>1</td>\n",
       "      <td>0</td>\n",
       "      <td>38</td>\n",
       "      <td>152</td>\n",
       "      <td>250</td>\n",
       "      <td>276</td>\n",
       "      <td>42</td>\n",
       "      <td>0</td>\n",
       "    </tr>\n",
       "  </tbody>\n",
       "</table>\n",
       "</div>"
      ],
      "text/plain": [
       "   Category  ContractTime  ContractType  \\\n",
       "0        26             1             0   \n",
       "1         3             1             0   \n",
       "2         8             1             0   \n",
       "3         8             1             0   \n",
       "4        17             1             0   \n",
       "\n",
       "                                     FullDescription        Id  \\\n",
       "0  The Company: Our client is a national training...  11888454   \n",
       "1  The Company: Founded in **** our client is a U...  11988350   \n",
       "2  Engineering Systems Analysts Surrey ****K Loca...  12612558   \n",
       "3  CIS Systems Engineering Consultant Bristol  So...  12613014   \n",
       "4  CNC Miller / Programmer Fanac Fleet, Hampshire...  22454872   \n",
       "\n",
       "   SalaryNormalized  SalaryRaw  company  location_1  location_2  location_3  \\\n",
       "0               NaN        NaN     1256           1           3          63   \n",
       "1               NaN        NaN     1256           1           3          63   \n",
       "2               NaN        NaN      912           1           0           0   \n",
       "3               NaN        NaN      912           1           0          54   \n",
       "4               NaN        NaN      912           1           0          38   \n",
       "\n",
       "   location_4  location_5  location_6  sourcename  title  \n",
       "0         135        1219          22          42      1  \n",
       "1         135        1219          22          42    495  \n",
       "2         185        1066          11          42      0  \n",
       "3         183         177          10          42      0  \n",
       "4         152         250         276          42      0  "
      ]
     },
     "execution_count": 2,
     "metadata": {},
     "output_type": "execute_result"
    }
   ],
   "source": [
    "test = pd.read_csv('salary_test_fixed.csv')\n",
    "test.head()"
   ]
  },
  {
   "cell_type": "code",
   "execution_count": 39,
   "metadata": {},
   "outputs": [
    {
     "data": {
      "text/html": [
       "<div>\n",
       "<style scoped>\n",
       "    .dataframe tbody tr th:only-of-type {\n",
       "        vertical-align: middle;\n",
       "    }\n",
       "\n",
       "    .dataframe tbody tr th {\n",
       "        vertical-align: top;\n",
       "    }\n",
       "\n",
       "    .dataframe thead th {\n",
       "        text-align: right;\n",
       "    }\n",
       "</style>\n",
       "<table border=\"1\" class=\"dataframe\">\n",
       "  <thead>\n",
       "    <tr style=\"text-align: right;\">\n",
       "      <th></th>\n",
       "      <th>Category</th>\n",
       "      <th>ContractTime</th>\n",
       "      <th>ContractType</th>\n",
       "      <th>FullDescription</th>\n",
       "      <th>Id</th>\n",
       "      <th>SalaryNormalized</th>\n",
       "      <th>SalaryRaw</th>\n",
       "      <th>company</th>\n",
       "      <th>location_1</th>\n",
       "      <th>location_2</th>\n",
       "      <th>location_3</th>\n",
       "      <th>location_4</th>\n",
       "      <th>location_5</th>\n",
       "      <th>location_6</th>\n",
       "      <th>sourcename</th>\n",
       "      <th>title</th>\n",
       "    </tr>\n",
       "  </thead>\n",
       "  <tbody>\n",
       "    <tr>\n",
       "      <th>0</th>\n",
       "      <td>26</td>\n",
       "      <td>1</td>\n",
       "      <td>0</td>\n",
       "      <td>The Company: Our client is a national training...</td>\n",
       "      <td>11888454</td>\n",
       "      <td>NaN</td>\n",
       "      <td>NaN</td>\n",
       "      <td>1256</td>\n",
       "      <td>1</td>\n",
       "      <td>3</td>\n",
       "      <td>63</td>\n",
       "      <td>135</td>\n",
       "      <td>1219</td>\n",
       "      <td>22</td>\n",
       "      <td>42</td>\n",
       "      <td>1</td>\n",
       "    </tr>\n",
       "    <tr>\n",
       "      <th>1</th>\n",
       "      <td>3</td>\n",
       "      <td>1</td>\n",
       "      <td>0</td>\n",
       "      <td>The Company: Founded in **** our client is a U...</td>\n",
       "      <td>11988350</td>\n",
       "      <td>NaN</td>\n",
       "      <td>NaN</td>\n",
       "      <td>1256</td>\n",
       "      <td>1</td>\n",
       "      <td>3</td>\n",
       "      <td>63</td>\n",
       "      <td>135</td>\n",
       "      <td>1219</td>\n",
       "      <td>22</td>\n",
       "      <td>42</td>\n",
       "      <td>495</td>\n",
       "    </tr>\n",
       "    <tr>\n",
       "      <th>2</th>\n",
       "      <td>8</td>\n",
       "      <td>1</td>\n",
       "      <td>0</td>\n",
       "      <td>Engineering Systems Analysts Surrey ****K Loca...</td>\n",
       "      <td>12612558</td>\n",
       "      <td>NaN</td>\n",
       "      <td>NaN</td>\n",
       "      <td>912</td>\n",
       "      <td>1</td>\n",
       "      <td>0</td>\n",
       "      <td>0</td>\n",
       "      <td>185</td>\n",
       "      <td>1066</td>\n",
       "      <td>11</td>\n",
       "      <td>42</td>\n",
       "      <td>0</td>\n",
       "    </tr>\n",
       "    <tr>\n",
       "      <th>3</th>\n",
       "      <td>8</td>\n",
       "      <td>1</td>\n",
       "      <td>0</td>\n",
       "      <td>CIS Systems Engineering Consultant Bristol  So...</td>\n",
       "      <td>12613014</td>\n",
       "      <td>NaN</td>\n",
       "      <td>NaN</td>\n",
       "      <td>912</td>\n",
       "      <td>1</td>\n",
       "      <td>0</td>\n",
       "      <td>54</td>\n",
       "      <td>183</td>\n",
       "      <td>177</td>\n",
       "      <td>10</td>\n",
       "      <td>42</td>\n",
       "      <td>0</td>\n",
       "    </tr>\n",
       "    <tr>\n",
       "      <th>4</th>\n",
       "      <td>17</td>\n",
       "      <td>1</td>\n",
       "      <td>0</td>\n",
       "      <td>CNC Miller / Programmer Fanac Fleet, Hampshire...</td>\n",
       "      <td>22454872</td>\n",
       "      <td>NaN</td>\n",
       "      <td>NaN</td>\n",
       "      <td>912</td>\n",
       "      <td>1</td>\n",
       "      <td>0</td>\n",
       "      <td>38</td>\n",
       "      <td>152</td>\n",
       "      <td>250</td>\n",
       "      <td>276</td>\n",
       "      <td>42</td>\n",
       "      <td>0</td>\n",
       "    </tr>\n",
       "  </tbody>\n",
       "</table>\n",
       "</div>"
      ],
      "text/plain": [
       "   Category  ContractTime  ContractType  \\\n",
       "0        26             1             0   \n",
       "1         3             1             0   \n",
       "2         8             1             0   \n",
       "3         8             1             0   \n",
       "4        17             1             0   \n",
       "\n",
       "                                     FullDescription        Id  \\\n",
       "0  The Company: Our client is a national training...  11888454   \n",
       "1  The Company: Founded in **** our client is a U...  11988350   \n",
       "2  Engineering Systems Analysts Surrey ****K Loca...  12612558   \n",
       "3  CIS Systems Engineering Consultant Bristol  So...  12613014   \n",
       "4  CNC Miller / Programmer Fanac Fleet, Hampshire...  22454872   \n",
       "\n",
       "   SalaryNormalized  SalaryRaw  company  location_1  location_2  location_3  \\\n",
       "0               NaN        NaN     1256           1           3          63   \n",
       "1               NaN        NaN     1256           1           3          63   \n",
       "2               NaN        NaN      912           1           0           0   \n",
       "3               NaN        NaN      912           1           0          54   \n",
       "4               NaN        NaN      912           1           0          38   \n",
       "\n",
       "   location_4  location_5  location_6  sourcename  title  \n",
       "0         135        1219          22          42      1  \n",
       "1         135        1219          22          42    495  \n",
       "2         185        1066          11          42      0  \n",
       "3         183         177          10          42      0  \n",
       "4         152         250         276          42      0  "
      ]
     },
     "execution_count": 39,
     "metadata": {},
     "output_type": "execute_result"
    }
   ],
   "source": [
    "test = pd.read_csv('salary_test_fixed.csv')\n",
    "test.head()"
   ]
  },
  {
   "cell_type": "markdown",
   "metadata": {},
   "source": [
    "** Full description to vector**"
   ]
  },
  {
   "cell_type": "code",
   "execution_count": 41,
   "metadata": {},
   "outputs": [],
   "source": [
    "full_des = pd.read_csv('./dataset/salay_first_dataset.csv',low_memory=False)['FullDescription']"
   ]
  },
  {
   "cell_type": "code",
   "execution_count": 42,
   "metadata": {},
   "outputs": [
    {
     "name": "stderr",
     "output_type": "stream",
     "text": [
      "100%|████████████████████████████████████████████████████████████████████████| 367231/367231 [01:04<00:00, 5710.49it/s]\n"
     ]
    }
   ],
   "source": [
    "# integer encode the documents 独热编码\n",
    "vocab_size = 2000\n",
    "encoded_docs = [one_hot(d, vocab_size) for d in tqdm(full_des)]"
   ]
  },
  {
   "cell_type": "code",
   "execution_count": 43,
   "metadata": {},
   "outputs": [
    {
     "data": {
      "text/plain": [
       "(367231, 2081)"
      ]
     },
     "execution_count": 43,
     "metadata": {},
     "output_type": "execute_result"
    }
   ],
   "source": [
    "# pad documents to a max length of max words\n",
    "maxlength = len(max(encoded_docs, key=len))\n",
    "padded_docs = pad_sequences(encoded_docs, maxlen = maxlength, padding='post')\n",
    "padded_docs.shape"
   ]
  },
  {
   "cell_type": "code",
   "execution_count": 44,
   "metadata": {},
   "outputs": [],
   "source": [
    "# normallized\n",
    "padded_docs = padded_docs/vocab_size"
   ]
  },
  {
   "cell_type": "code",
   "execution_count": 45,
   "metadata": {},
   "outputs": [],
   "source": [
    "with h5py.File('features_fulldes_all.h5', 'w') as f:\n",
    "    f['fulldes'] = padded_docs"
   ]
  },
  {
   "cell_type": "code",
   "execution_count": 46,
   "metadata": {},
   "outputs": [
    {
     "name": "stdout",
     "output_type": "stream",
     "text": [
      "(244768, 2081)\n"
     ]
    }
   ],
   "source": [
    "fullDes = padded_docs[122462:367230]\n",
    "print(fullDes.shape)"
   ]
  },
  {
   "cell_type": "code",
   "execution_count": 47,
   "metadata": {},
   "outputs": [],
   "source": [
    "del padded_docs, encoded_docs, full_des"
   ]
  },
  {
   "cell_type": "code",
   "execution_count": 48,
   "metadata": {},
   "outputs": [],
   "source": [
    "with h5py.File('features_fulldes_train.h5', 'w') as f:\n",
    "    f['fulldes_train'] = fullDes"
   ]
  },
  {
   "cell_type": "markdown",
   "metadata": {},
   "source": [
    "** Train - other features to one-hot vector**"
   ]
  },
  {
   "cell_type": "code",
   "execution_count": 3,
   "metadata": {},
   "outputs": [
    {
     "data": {
      "text/plain": [
       "(244768,)"
      ]
     },
     "execution_count": 3,
     "metadata": {},
     "output_type": "execute_result"
    }
   ],
   "source": [
    "Category = train['Category']\n",
    "Category.shape"
   ]
  },
  {
   "cell_type": "code",
   "execution_count": 4,
   "metadata": {},
   "outputs": [
    {
     "data": {
      "text/plain": [
       "(244768, 29)"
      ]
     },
     "execution_count": 4,
     "metadata": {},
     "output_type": "execute_result"
    }
   ],
   "source": [
    "category_onehot = keras.utils.to_categorical(Category, len(set(Category))) \n",
    "category_onehot.shape"
   ]
  },
  {
   "cell_type": "code",
   "execution_count": 5,
   "metadata": {},
   "outputs": [
    {
     "data": {
      "text/plain": [
       "(244768,)"
      ]
     },
     "execution_count": 5,
     "metadata": {},
     "output_type": "execute_result"
    }
   ],
   "source": [
    "ContractTime = train['ContractTime']\n",
    "ContractTime.shape"
   ]
  },
  {
   "cell_type": "code",
   "execution_count": 6,
   "metadata": {},
   "outputs": [
    {
     "data": {
      "text/plain": [
       "(244768, 3)"
      ]
     },
     "execution_count": 6,
     "metadata": {},
     "output_type": "execute_result"
    }
   ],
   "source": [
    "ContractTime_onehot = keras.utils.to_categorical(ContractTime, len(set(ContractTime))) \n",
    "ContractTime_onehot.shape"
   ]
  },
  {
   "cell_type": "code",
   "execution_count": 7,
   "metadata": {},
   "outputs": [
    {
     "data": {
      "text/plain": [
       "(244768,)"
      ]
     },
     "execution_count": 7,
     "metadata": {},
     "output_type": "execute_result"
    }
   ],
   "source": [
    "ContractType = train['ContractType']\n",
    "ContractType.shape"
   ]
  },
  {
   "cell_type": "code",
   "execution_count": 8,
   "metadata": {},
   "outputs": [
    {
     "data": {
      "text/plain": [
       "(244768, 3)"
      ]
     },
     "execution_count": 8,
     "metadata": {},
     "output_type": "execute_result"
    }
   ],
   "source": [
    "ContractType_onehot = keras.utils.to_categorical(ContractType, len(set(ContractType))) \n",
    "ContractType_onehot.shape"
   ]
  },
  {
   "cell_type": "code",
   "execution_count": 9,
   "metadata": {},
   "outputs": [
    {
     "data": {
      "text/plain": [
       "(244768,)"
      ]
     },
     "execution_count": 9,
     "metadata": {},
     "output_type": "execute_result"
    }
   ],
   "source": [
    "location_1 = train['location_1']\n",
    "location_1.shape"
   ]
  },
  {
   "cell_type": "code",
   "execution_count": 10,
   "metadata": {},
   "outputs": [
    {
     "data": {
      "text/plain": [
       "(244768, 2)"
      ]
     },
     "execution_count": 10,
     "metadata": {},
     "output_type": "execute_result"
    }
   ],
   "source": [
    "location_1_onehot = keras.utils.to_categorical(location_1, len(set(location_1))) \n",
    "location_1_onehot.shape"
   ]
  },
  {
   "cell_type": "code",
   "execution_count": 11,
   "metadata": {},
   "outputs": [
    {
     "data": {
      "text/plain": [
       "(244768,)"
      ]
     },
     "execution_count": 11,
     "metadata": {},
     "output_type": "execute_result"
    }
   ],
   "source": [
    "location_2 = train['location_2']\n",
    "location_2.shape"
   ]
  },
  {
   "cell_type": "code",
   "execution_count": 12,
   "metadata": {},
   "outputs": [
    {
     "data": {
      "text/plain": [
       "(244768, 12)"
      ]
     },
     "execution_count": 12,
     "metadata": {},
     "output_type": "execute_result"
    }
   ],
   "source": [
    "location_2_onehot = keras.utils.to_categorical(location_2, len(set(location_2))) \n",
    "location_2_onehot.shape"
   ]
  },
  {
   "cell_type": "code",
   "execution_count": 13,
   "metadata": {},
   "outputs": [
    {
     "data": {
      "text/plain": [
       "(244768,)"
      ]
     },
     "execution_count": 13,
     "metadata": {},
     "output_type": "execute_result"
    }
   ],
   "source": [
    "location_3 = train['location_3']\n",
    "location_3.shape"
   ]
  },
  {
   "cell_type": "code",
   "execution_count": 14,
   "metadata": {},
   "outputs": [
    {
     "data": {
      "text/plain": [
       "(244768, 74)"
      ]
     },
     "execution_count": 14,
     "metadata": {},
     "output_type": "execute_result"
    }
   ],
   "source": [
    "location_3_onehot = keras.utils.to_categorical(location_3, 74) \n",
    "location_3_onehot.shape"
   ]
  },
  {
   "cell_type": "code",
   "execution_count": 15,
   "metadata": {},
   "outputs": [
    {
     "data": {
      "text/plain": [
       "(244768,)"
      ]
     },
     "execution_count": 15,
     "metadata": {},
     "output_type": "execute_result"
    }
   ],
   "source": [
    "location_4 = train['location_4']\n",
    "location_4.shape"
   ]
  },
  {
   "cell_type": "code",
   "execution_count": 16,
   "metadata": {},
   "outputs": [
    {
     "data": {
      "text/plain": [
       "(244768, 241)"
      ]
     },
     "execution_count": 16,
     "metadata": {},
     "output_type": "execute_result"
    }
   ],
   "source": [
    "location_4_onehot = keras.utils.to_categorical(location_4, 241) \n",
    "location_4_onehot.shape"
   ]
  },
  {
   "cell_type": "code",
   "execution_count": 17,
   "metadata": {},
   "outputs": [
    {
     "data": {
      "text/plain": [
       "(244768,)"
      ]
     },
     "execution_count": 17,
     "metadata": {},
     "output_type": "execute_result"
    }
   ],
   "source": [
    "location_5 = train['location_5']\n",
    "location_5.shape"
   ]
  },
  {
   "cell_type": "code",
   "execution_count": 18,
   "metadata": {},
   "outputs": [
    {
     "data": {
      "text/plain": [
       "(244768, 1239)"
      ]
     },
     "execution_count": 18,
     "metadata": {},
     "output_type": "execute_result"
    }
   ],
   "source": [
    "location_5_onehot = keras.utils.to_categorical(location_5, 1239) \n",
    "location_5_onehot.shape"
   ]
  },
  {
   "cell_type": "code",
   "execution_count": 19,
   "metadata": {},
   "outputs": [
    {
     "data": {
      "text/plain": [
       "(244768,)"
      ]
     },
     "execution_count": 19,
     "metadata": {},
     "output_type": "execute_result"
    }
   ],
   "source": [
    "location_6 = train['location_6']\n",
    "location_6.shape"
   ]
  },
  {
   "cell_type": "code",
   "execution_count": 20,
   "metadata": {},
   "outputs": [
    {
     "data": {
      "text/plain": [
       "(244768, 2088)"
      ]
     },
     "execution_count": 20,
     "metadata": {},
     "output_type": "execute_result"
    }
   ],
   "source": [
    "location_6_onehot = keras.utils.to_categorical(location_6, len(set(location_6))) \n",
    "location_6_onehot.shape"
   ]
  },
  {
   "cell_type": "code",
   "execution_count": 21,
   "metadata": {},
   "outputs": [
    {
     "data": {
      "text/plain": [
       "(244768,)"
      ]
     },
     "execution_count": 21,
     "metadata": {},
     "output_type": "execute_result"
    }
   ],
   "source": [
    "company = train['company']\n",
    "company.shape"
   ]
  },
  {
   "cell_type": "code",
   "execution_count": 22,
   "metadata": {},
   "outputs": [
    {
     "data": {
      "text/plain": [
       "(244768, 3038)"
      ]
     },
     "execution_count": 22,
     "metadata": {},
     "output_type": "execute_result"
    }
   ],
   "source": [
    "company_onehot = keras.utils.to_categorical(company, len(set(company))) \n",
    "company_onehot.shape"
   ]
  },
  {
   "cell_type": "code",
   "execution_count": 23,
   "metadata": {},
   "outputs": [
    {
     "data": {
      "text/plain": [
       "(244768,)"
      ]
     },
     "execution_count": 23,
     "metadata": {},
     "output_type": "execute_result"
    }
   ],
   "source": [
    "sourcename = train['sourcename']\n",
    "sourcename.shape"
   ]
  },
  {
   "cell_type": "code",
   "execution_count": 24,
   "metadata": {},
   "outputs": [
    {
     "data": {
      "text/plain": [
       "(244768, 169)"
      ]
     },
     "execution_count": 24,
     "metadata": {},
     "output_type": "execute_result"
    }
   ],
   "source": [
    "sourcename_onehot = keras.utils.to_categorical(sourcename, 169) \n",
    "sourcename_onehot.shape"
   ]
  },
  {
   "cell_type": "code",
   "execution_count": 25,
   "metadata": {},
   "outputs": [
    {
     "data": {
      "text/plain": [
       "(244768,)"
      ]
     },
     "execution_count": 25,
     "metadata": {},
     "output_type": "execute_result"
    }
   ],
   "source": [
    "title = train['title']\n",
    "title.shape"
   ]
  },
  {
   "cell_type": "code",
   "execution_count": 26,
   "metadata": {},
   "outputs": [
    {
     "data": {
      "text/plain": [
       "(244768, 2838)"
      ]
     },
     "execution_count": 26,
     "metadata": {},
     "output_type": "execute_result"
    }
   ],
   "source": [
    "title_onehot = keras.utils.to_categorical(title, 2838) \n",
    "title_onehot.shape"
   ]
  },
  {
   "cell_type": "markdown",
   "metadata": {},
   "source": [
    "# Combine features"
   ]
  },
  {
   "cell_type": "code",
   "execution_count": 33,
   "metadata": {},
   "outputs": [
    {
     "name": "stdout",
     "output_type": "stream",
     "text": [
      "(244768,)\n"
     ]
    }
   ],
   "source": [
    "# salay data\n",
    "salary = train['SalaryNormalized']\n",
    "print(salary.shape)"
   ]
  },
  {
   "cell_type": "code",
   "execution_count": null,
   "metadata": {},
   "outputs": [],
   "source": [
    "features = np.concatenate([title_onehot, fullDes, location_1_onehot, location_2_onehot, location_3_onehot,\n",
    "                          location_4_onehot, location_5_onehot, location_6_onehot, ContractType_onehot,\n",
    "                          ContractTime_onehot, company_onehot, category_onehot, sourcename_onehot], axis=-1) # with FullDescription\n",
    "features.shape"
   ]
  },
  {
   "cell_type": "code",
   "execution_count": 28,
   "metadata": {},
   "outputs": [
    {
     "data": {
      "text/plain": [
       "(244768, 9736)"
      ]
     },
     "execution_count": 28,
     "metadata": {},
     "output_type": "execute_result"
    }
   ],
   "source": [
    "features = np.concatenate([title_onehot, location_1_onehot, location_2_onehot, location_3_onehot,\n",
    "                          location_4_onehot, location_5_onehot, location_6_onehot, ContractType_onehot,\n",
    "                          ContractTime_onehot, company_onehot, category_onehot, sourcename_onehot], axis=-1) # without FullDescription\n",
    "features.shape"
   ]
  },
  {
   "cell_type": "code",
   "execution_count": 31,
   "metadata": {},
   "outputs": [],
   "source": [
    "with h5py.File('features_train.h5', 'w') as f:\n",
    "    f['features'] = features"
   ]
  },
  {
   "cell_type": "code",
   "execution_count": 38,
   "metadata": {},
   "outputs": [],
   "source": [
    "with h5py.File('features_salary.h5', 'w') as f:\n",
    "    f['salary'] = salary"
   ]
  },
  {
   "cell_type": "code",
   "execution_count": 34,
   "metadata": {},
   "outputs": [],
   "source": [
    "#free memeroy\n",
    "del train"
   ]
  },
  {
   "cell_type": "code",
   "execution_count": 27,
   "metadata": {},
   "outputs": [],
   "source": [
    "#free memeroy\n",
    "del Category,ContractTime,ContractType,location_1,location_2,location_3,location_4,location_5,location_6,company,sourcename,title"
   ]
  },
  {
   "cell_type": "code",
   "execution_count": 30,
   "metadata": {},
   "outputs": [],
   "source": [
    "#free memeroy\n",
    "del category_onehot,ContractTime_onehot,ContractType_onehot,location_1_onehot,location_2_onehot,location_3_onehot,location_4_onehot,location_5_onehot,location_6_onehot,company_onehot,sourcename_onehot,title_onehot"
   ]
  },
  {
   "cell_type": "markdown",
   "metadata": {},
   "source": [
    "** Test - other features to one-hot vector**"
   ]
  },
  {
   "cell_type": "code",
   "execution_count": 3,
   "metadata": {},
   "outputs": [],
   "source": [
    "Category = test['Category']\n",
    "\n",
    "category_onehot = keras.utils.to_categorical(Category, len(set(Category))) \n",
    "\n",
    "ContractTime = test['ContractTime']\n",
    "\n",
    "ContractTime_onehot = keras.utils.to_categorical(ContractTime, len(set(ContractTime))) \n",
    "\n",
    "ContractType = test['ContractType']\n",
    "\n",
    "ContractType_onehot = keras.utils.to_categorical(ContractType, len(set(ContractType))) "
   ]
  },
  {
   "cell_type": "code",
   "execution_count": 7,
   "metadata": {},
   "outputs": [],
   "source": [
    "location_1 = test['location_1']\n",
    "location_1_onehot = keras.utils.to_categorical(location_1, len(set(location_1))) \n",
    "\n",
    "location_2 = test['location_2']\n",
    "location_2_onehot = keras.utils.to_categorical(location_2, len(set(location_2))) \n",
    "\n",
    "location_3 = test['location_3']\n",
    "location_3_onehot = keras.utils.to_categorical(location_3, 74) \n",
    "\n",
    "location_4 = test['location_4']\n",
    "location_4_onehot = keras.utils.to_categorical(location_4, 241) \n",
    "\n",
    "location_5 = test['location_5']\n",
    "location_5_onehot = keras.utils.to_categorical(location_5, 1239) \n",
    "\n",
    "location_6 = test['location_6']\n",
    "location_6_onehot = keras.utils.to_categorical(location_6, 2088) "
   ]
  },
  {
   "cell_type": "code",
   "execution_count": 17,
   "metadata": {},
   "outputs": [],
   "source": [
    "company = test['company']\n",
    "company_onehot = keras.utils.to_categorical(company, len(set(company))) \n",
    "\n",
    "sourcename = test['sourcename']\n",
    "sourcename_onehot = keras.utils.to_categorical(sourcename, 169) \n",
    "\n",
    "title = test['title']\n",
    "title_onehot = keras.utils.to_categorical(title, 2838) "
   ]
  },
  {
   "cell_type": "markdown",
   "metadata": {},
   "source": [
    "# Combine features"
   ]
  },
  {
   "cell_type": "code",
   "execution_count": 22,
   "metadata": {},
   "outputs": [
    {
     "data": {
      "text/plain": [
       "(122463, 9736)"
      ]
     },
     "execution_count": 22,
     "metadata": {},
     "output_type": "execute_result"
    }
   ],
   "source": [
    "features = np.concatenate([title_onehot, location_1_onehot, location_2_onehot, location_3_onehot,\n",
    "                          location_4_onehot, location_5_onehot, location_6_onehot, ContractType_onehot,\n",
    "                          ContractTime_onehot, company_onehot, category_onehot, sourcename_onehot], axis=-1) # without FullDescription\n",
    "features.shape"
   ]
  },
  {
   "cell_type": "code",
   "execution_count": 23,
   "metadata": {},
   "outputs": [],
   "source": [
    "with h5py.File('features_test.h5', 'w') as f:\n",
    "    f['features_test'] = features"
   ]
  }
 ],
 "metadata": {
  "anaconda-cloud": {},
  "kernelspec": {
   "display_name": "Python [conda env:tensorflow]",
   "language": "python",
   "name": "conda-env-tensorflow-py"
  },
  "language_info": {
   "codemirror_mode": {
    "name": "ipython",
    "version": 3
   },
   "file_extension": ".py",
   "mimetype": "text/x-python",
   "name": "python",
   "nbconvert_exporter": "python",
   "pygments_lexer": "ipython3",
   "version": "3.5.4"
  }
 },
 "nbformat": 4,
 "nbformat_minor": 1
}
